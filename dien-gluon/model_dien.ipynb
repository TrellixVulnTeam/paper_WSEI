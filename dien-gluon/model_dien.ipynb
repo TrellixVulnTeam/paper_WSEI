{
 "cells": [
  {
   "cell_type": "code",
   "execution_count": 1,
   "metadata": {
    "ExecuteTime": {
     "end_time": "2019-04-24T01:12:26.974552Z",
     "start_time": "2019-04-24T01:12:24.080394Z"
    }
   },
   "outputs": [],
   "source": [
    "import mxnet as mx\n",
    "from mxnet import autograd, gluon, init, nd\n",
    "from mxnet.gluon import data as gdata, loss as gloss, nn, rnn\n",
    "from sklearn import metrics\n",
    "import mxnet as mx\n",
    "from mxnet import autograd, gluon, init, nd\n",
    "from mxnet.gluon import data as gdata, loss as gloss, nn\n",
    "import pickle\n",
    "import random\n",
    "import time\n",
    "from tqdm import tqdm, tqdm_notebook\n",
    "from mxboard import SummaryWriter\n",
    "import sys\n",
    "sys.path.append('/data/CaoZhong/utils/')\n",
    "from my_utils import *"
   ]
  },
  {
   "cell_type": "markdown",
   "metadata": {},
   "source": [
    "# 加载数据"
   ]
  },
  {
   "cell_type": "code",
   "execution_count": 2,
   "metadata": {
    "ExecuteTime": {
     "end_time": "2019-04-24T01:12:26.983635Z",
     "start_time": "2019-04-24T01:12:26.977926Z"
    }
   },
   "outputs": [],
   "source": [
    "ctx = mx.gpu(7)\n",
    "train_batch_size = 64\n",
    "test_batch_size = 512\n",
    "model_name = 'dien_base'\n",
    "data_path = '/data/CaoZhong/data/dien/dataset_sub_gluon.pkl'"
   ]
  },
  {
   "cell_type": "code",
   "execution_count": 3,
   "metadata": {
    "ExecuteTime": {
     "end_time": "2019-04-24T01:12:28.713470Z",
     "start_time": "2019-04-24T01:12:26.986295Z"
    }
   },
   "outputs": [
    {
     "name": "stdout",
     "output_type": "stream",
     "text": [
      "user count: 1053\titem count: 63001\tcate count: 801\n",
      "train set len:  129888\n",
      "test set len:  2106\n",
      "max history len: 431\n"
     ]
    }
   ],
   "source": [
    "data_utils = DienDataIter(data_path, train_batch_size, test_batch_size)\n",
    "train_iter, test_iter = data_utils.get_data_iter()\n",
    "user_count, item_count, cate_count = data_utils.get_count()"
   ]
  },
  {
   "cell_type": "code",
   "execution_count": 4,
   "metadata": {
    "ExecuteTime": {
     "end_time": "2019-04-24T01:12:28.733952Z",
     "start_time": "2019-04-24T01:12:28.716980Z"
    },
    "code_folding": [
     0
    ]
   },
   "outputs": [],
   "source": [
    "# for batch in train_iter:\n",
    "#     for name, data in zip(['uid','hist','hist_cate','hist_item_neg','hist_cate_neg','pre','pre_cate','label','sl'], batch):\n",
    "#         print(name, 'shape: ', data.shape)    \n",
    "#     print(batch[-1])\n",
    "#     break\n",
    "# for batch in test_iter:\n",
    "#     for name, data in zip(['uid','hist','hist_cate','hist_item_neg','hist_cate_neg','pre','pre_cate','label','sl'], batch):\n",
    "#         print(name, 'shape: ', data.shape)        \n",
    "#     break"
   ]
  },
  {
   "cell_type": "markdown",
   "metadata": {},
   "source": [
    "# 建立模型"
   ]
  },
  {
   "cell_type": "code",
   "execution_count": 5,
   "metadata": {
    "ExecuteTime": {
     "end_time": "2019-04-24T01:12:28.759115Z",
     "start_time": "2019-04-24T01:12:28.736351Z"
    }
   },
   "outputs": [],
   "source": [
    "class AuxiliaryNet(nn.Block):\n",
    "    def __init__(self, **kwargs):\n",
    "        super(AuxiliaryNet, self).__init__(**kwargs)\n",
    "        self.aux_net = nn.Sequential()\n",
    "        self.aux_net.add(nn.BatchNorm())\n",
    "        self.aux_net.add(nn.Dense(100, activation='sigmoid', flatten=False))\n",
    "        self.aux_net.add(nn.Dense(500, activation='sigmoid', flatten=False))\n",
    "        self.aux_net.add(nn.Dense(1, activation='sigmoid', flatten=False))\n",
    "        \n",
    "    \"\"\"\n",
    "    Parameters: \n",
    "    \n",
    "    \"\"\"    \n",
    "    def forward(self, h_states, click_hist_item, noclick_hist_item, sl):\n",
    "        click_input = nd.concat(h_states, click_hist_item, dim=-1)        # [B, T-1, H]\n",
    "        noclick_input =  nd.concat(h_states, noclick_hist_item, dim=-1)   # [B, T-1, H]\n",
    "        click_prop = self.aux_net(click_input)                            # [B, T-1, 1]\n",
    "        noclick_prop = self.aux_net(noclick_input)\n",
    "        sl = sl - 1\n",
    "        click_loss = nd.SequenceMask(-nd.log(click_prop).swapaxes(0,1), sequence_length=sl, use_sequence_length=True) # [T-1, B, H]\n",
    "        click_loss = click_loss.swapaxes(0,1).reshape((-1,h_states.shape[1]))                                        # [B, T-1]\n",
    "        noclick_loss = nd.SequenceMask(-nd.log(1-noclick_prop).swapaxes(0,1), sequence_length=sl, use_sequence_length=True)\n",
    "        noclick_loss = noclick_loss.swapaxes(0,1).reshape((-1,h_states.shape[1]))\n",
    "        aux_loss = (click_loss + noclick_loss).mean(axis=-1)\n",
    "        return aux_loss"
   ]
  },
  {
   "cell_type": "code",
   "execution_count": 6,
   "metadata": {
    "ExecuteTime": {
     "end_time": "2019-04-24T01:12:28.793889Z",
     "start_time": "2019-04-24T01:12:28.762138Z"
    },
    "code_folding": []
   },
   "outputs": [],
   "source": [
    "class Model(nn.Block):\n",
    "    def __init__(self, n_uid, n_mid, n_cat, embed_size, hidden_size, attention_size, ctx, **kwargs):\n",
    "        super(Model, self).__init__(**kwargs)\n",
    "        self.hidden_size = hidden_size\n",
    "        self.attention_size = attention_size\n",
    "        self.embed_size = embed_size\n",
    "        self.uid_embedding = nn.Embedding(n_uid, 2*embed_size)\n",
    "        self.item_embedding = nn.Embedding(n_mid, embed_size)\n",
    "        self.cate_embedding = nn.Embedding(n_cat, embed_size)\n",
    "        self.rnn1 = rnn.GRU(hidden_size)\n",
    "        self.rnn2 = rnn.GRU(hidden_size)\n",
    "        self.attention_layer = Attention(attention_size)\n",
    "        self.aux_net = AuxiliaryNet()\n",
    "#         self.aux_net = nn.Sequential()\n",
    "#         self.aux_net.add(nn.BatchNorm())\n",
    "#         self.aux_net.add(nn.Dense(100, activation='sigmoid', flatten=False))\n",
    "#         self.aux_net.add(nn.Dense(500, activation='sigmoid', flatten=False))\n",
    "#         self.aux_net.add(nn.Dense(1, activation='sigmoid', flatten=False))\n",
    "\n",
    "        \n",
    "        \n",
    "        self.mlp = nn.Sequential()\n",
    "        self.mlp.add(nn.BatchNorm())\n",
    "        self.mlp.add(nn.Dense(200, activation='relu'))\n",
    "        self.mlp.add(nn.Dense(80, activation='relu'))\n",
    "        self.mlp.add(nn.Dense(1, activation=None))\n",
    "\n",
    "    def forward(self, uid, hist_item, hist_cate, noclk_hist_item, noclk_hist_cate,item, cate, seq_len):\n",
    "        uid_embed = self.uid_embedding(uid)\n",
    "        item_idx_embed = self.item_embedding(item)\n",
    "        cate_idx_embed = self.cate_embedding(cate)\n",
    "        item_embed = nd.concat(item_idx_embed, cate_idx_embed, dim=-1)\n",
    "        \n",
    "        hist_item_idx_embed = self.item_embedding(hist_item)\n",
    "        hist_cate_idx_embed = self.cate_embedding(hist_cate)\n",
    "        hist_item_embed = nd.concat(hist_item_idx_embed, hist_cate_idx_embed, dim=-1)  # [B, T, 2E]\n",
    "        hist_item_sum = nd.SequenceMask(hist_item_embed.swapaxes(0, 1), sequence_length=seq_len.reshape((-1)), use_sequence_length=True) # [T, B, H]\n",
    "        hist_item_sum = nd.sum(hist_item_sum, axis=0)  # [B, 2E]\n",
    "        \n",
    "        noclk_hist_item = self.item_embedding(noclk_hist_item)\n",
    "        noclk_hist_cate = self.item_embedding(noclk_hist_cate)\n",
    "        noclk_hist = nd.concat(noclk_hist_item, noclk_hist_cate, dim=-1)\n",
    "        noclk_hist_item_embed = noclk_hist[:,:,0,:]\n",
    "        noclk_hist_item_embed = noclk_hist_item_embed.reshape((-1, hist_item_embed.shape[1],hist_item_embed.shape[-1]))  # [B, T, 2E]\n",
    "\n",
    "        rnn_outputs = self.rnn1(hist_item_embed.swapaxes(0,1))  # [T, B, H]\n",
    "        \n",
    "        rnn_out2 = self.rnn2(rnn_outputs)\n",
    "        \n",
    "        c = self.attention_layer(rnn_out2, item_embed, seq_len)\n",
    "        \n",
    "        interset_state = rnn_outputs.swapaxes(0,1)[:,:-1,:]               # [B, T-1, H]\n",
    "        click_item = hist_item_embed[:,1:,:]\n",
    "        noclick_item = noclk_hist_item_embed[:,1:,:]\n",
    "        \n",
    "        aux_loss = self.aux_net(interset_state, click_item, noclick_item,seq_len)\n",
    "        \n",
    "#         click_input = nd.concat(interset_state, click_item, dim=-1)       # [B, T-1, H]\n",
    "#         noclick_input =  nd.concat(interset_state, noclick_item,dim=-1)   # [B, T-1, H]\n",
    "#         click_prop = self.aux_net(click_input)                            # [B, T-1, 1]\n",
    "#         noclick_prop = self.aux_net(noclick_input)\n",
    "#         seq_len = seq_len - 1\n",
    "#         click_loss = nd.SequenceMask(-nd.log(click_prop).swapaxes(0,1), sequence_length=seq_len, use_sequence_length=True) # [T-1, B, H]\n",
    "#         click_loss = click_loss.swapaxes(0,1).reshape((-1,interset_state.shape[1]))                                        # [B, T-1]\n",
    "#         noclick_loss = nd.SequenceMask(-nd.log(1-noclick_prop).swapaxes(0,1), sequence_length=seq_len, use_sequence_length=True)\n",
    "#         noclick_loss = noclick_loss.swapaxes(0,1).reshape((-1,interset_state.shape[1]))\n",
    "#         aux_loss = (click_loss + noclick_loss).mean(axis=-1)\n",
    "        \n",
    "        inp = nd.concat(uid_embed, item_embed,hist_item_sum, item_embed*hist_item_sum, c, dim=1)\n",
    "        score = self.mlp(inp)\n",
    "        score = score.reshape((-1))\n",
    "        return aux_loss, score\n",
    "            "
   ]
  },
  {
   "cell_type": "markdown",
   "metadata": {},
   "source": [
    "# 模型训练"
   ]
  },
  {
   "cell_type": "code",
   "execution_count": 7,
   "metadata": {
    "ExecuteTime": {
     "end_time": "2019-04-24T01:12:30.469832Z",
     "start_time": "2019-04-24T01:12:28.796392Z"
    },
    "scrolled": true
   },
   "outputs": [],
   "source": [
    "loss = gloss.SigmoidBinaryCrossEntropyLoss()\n",
    "net = Model(user_count, item_count, cate_count, embed_size=16, hidden_size=32, attention_size=16, ctx=ctx)\n",
    "net.initialize(init=init.Xavier(),force_reinit=True, ctx=ctx)"
   ]
  },
  {
   "cell_type": "code",
   "execution_count": 8,
   "metadata": {
    "ExecuteTime": {
     "end_time": "2019-04-24T06:13:57.668618Z",
     "start_time": "2019-04-24T01:12:30.478271Z"
    },
    "scrolled": true
   },
   "outputs": [
    {
     "name": "stdout",
     "output_type": "stream",
     "text": [
      "auc: 0.4998\tacc:0.5005\n"
     ]
    },
    {
     "data": {
      "application/vnd.jupyter.widget-view+json": {
       "model_id": "88653f5f18924e008aa515443f8762c3",
       "version_major": 2,
       "version_minor": 0
      },
      "text/plain": [
       "HBox(children=(IntProgress(value=0, max=30), HTML(value='')))"
      ]
     },
     "metadata": {},
     "output_type": "display_data"
    },
    {
     "data": {
      "application/vnd.jupyter.widget-view+json": {
       "model_id": "6bc7f7d262e544cc8157a0c2771b7df2",
       "version_major": 2,
       "version_minor": 0
      },
      "text/plain": [
       "HBox(children=(IntProgress(value=0, max=2030), HTML(value='')))"
      ]
     },
     "metadata": {},
     "output_type": "display_data"
    },
    {
     "data": {
      "application/vnd.jupyter.widget-view+json": {
       "model_id": "3fbaba086eb14cdea93e782cd0fbf86e",
       "version_major": 2,
       "version_minor": 0
      },
      "text/plain": [
       "HBox(children=(IntProgress(value=0, max=2030), HTML(value='')))"
      ]
     },
     "metadata": {},
     "output_type": "display_data"
    },
    {
     "data": {
      "application/vnd.jupyter.widget-view+json": {
       "model_id": "5477e1353cc94b8fb2acf8750e4c23d4",
       "version_major": 2,
       "version_minor": 0
      },
      "text/plain": [
       "HBox(children=(IntProgress(value=0, max=2030), HTML(value='')))"
      ]
     },
     "metadata": {},
     "output_type": "display_data"
    },
    {
     "data": {
      "application/vnd.jupyter.widget-view+json": {
       "model_id": "2d6833f251bd40e8b7179c39025e31ad",
       "version_major": 2,
       "version_minor": 0
      },
      "text/plain": [
       "HBox(children=(IntProgress(value=0, max=2030), HTML(value='')))"
      ]
     },
     "metadata": {},
     "output_type": "display_data"
    },
    {
     "data": {
      "application/vnd.jupyter.widget-view+json": {
       "model_id": "186624d73d8341fdb5e8db06b02376b3",
       "version_major": 2,
       "version_minor": 0
      },
      "text/plain": [
       "HBox(children=(IntProgress(value=0, max=2030), HTML(value='')))"
      ]
     },
     "metadata": {},
     "output_type": "display_data"
    },
    {
     "data": {
      "application/vnd.jupyter.widget-view+json": {
       "model_id": "7dfd9297ede74ef2b0428b3facd359aa",
       "version_major": 2,
       "version_minor": 0
      },
      "text/plain": [
       "HBox(children=(IntProgress(value=0, max=2030), HTML(value='')))"
      ]
     },
     "metadata": {},
     "output_type": "display_data"
    },
    {
     "data": {
      "application/vnd.jupyter.widget-view+json": {
       "model_id": "fda4751baf384c51a336c249096294ee",
       "version_major": 2,
       "version_minor": 0
      },
      "text/plain": [
       "HBox(children=(IntProgress(value=0, max=2030), HTML(value='')))"
      ]
     },
     "metadata": {},
     "output_type": "display_data"
    },
    {
     "data": {
      "application/vnd.jupyter.widget-view+json": {
       "model_id": "4a3d9ff2c0c541a7bc71493bebaa6b90",
       "version_major": 2,
       "version_minor": 0
      },
      "text/plain": [
       "HBox(children=(IntProgress(value=0, max=2030), HTML(value='')))"
      ]
     },
     "metadata": {},
     "output_type": "display_data"
    },
    {
     "data": {
      "application/vnd.jupyter.widget-view+json": {
       "model_id": "6a133802af414cab928c0b5817e5b72c",
       "version_major": 2,
       "version_minor": 0
      },
      "text/plain": [
       "HBox(children=(IntProgress(value=0, max=2030), HTML(value='')))"
      ]
     },
     "metadata": {},
     "output_type": "display_data"
    },
    {
     "data": {
      "application/vnd.jupyter.widget-view+json": {
       "model_id": "d4fd64a6dbe2466db3902ac98e8404fe",
       "version_major": 2,
       "version_minor": 0
      },
      "text/plain": [
       "HBox(children=(IntProgress(value=0, max=2030), HTML(value='')))"
      ]
     },
     "metadata": {},
     "output_type": "display_data"
    },
    {
     "data": {
      "application/vnd.jupyter.widget-view+json": {
       "model_id": "954835a6b915431a9d77d39a70c29f6a",
       "version_major": 2,
       "version_minor": 0
      },
      "text/plain": [
       "HBox(children=(IntProgress(value=0, max=2030), HTML(value='')))"
      ]
     },
     "metadata": {},
     "output_type": "display_data"
    },
    {
     "data": {
      "application/vnd.jupyter.widget-view+json": {
       "model_id": "3b5f4ac097434d0a92f6340959e30ba2",
       "version_major": 2,
       "version_minor": 0
      },
      "text/plain": [
       "HBox(children=(IntProgress(value=0, max=2030), HTML(value='')))"
      ]
     },
     "metadata": {},
     "output_type": "display_data"
    },
    {
     "data": {
      "application/vnd.jupyter.widget-view+json": {
       "model_id": "439d84f5f93c40f99043a34fddbd665a",
       "version_major": 2,
       "version_minor": 0
      },
      "text/plain": [
       "HBox(children=(IntProgress(value=0, max=2030), HTML(value='')))"
      ]
     },
     "metadata": {},
     "output_type": "display_data"
    },
    {
     "data": {
      "application/vnd.jupyter.widget-view+json": {
       "model_id": "98d4e80ae66844a1850a4fadf9a9b2d8",
       "version_major": 2,
       "version_minor": 0
      },
      "text/plain": [
       "HBox(children=(IntProgress(value=0, max=2030), HTML(value='')))"
      ]
     },
     "metadata": {},
     "output_type": "display_data"
    },
    {
     "data": {
      "application/vnd.jupyter.widget-view+json": {
       "model_id": "f12803a196294be5b16248e2a4de5779",
       "version_major": 2,
       "version_minor": 0
      },
      "text/plain": [
       "HBox(children=(IntProgress(value=0, max=2030), HTML(value='')))"
      ]
     },
     "metadata": {},
     "output_type": "display_data"
    },
    {
     "data": {
      "application/vnd.jupyter.widget-view+json": {
       "model_id": "eb114b9a5be24ec59841b6aa5930b09a",
       "version_major": 2,
       "version_minor": 0
      },
      "text/plain": [
       "HBox(children=(IntProgress(value=0, max=2030), HTML(value='')))"
      ]
     },
     "metadata": {},
     "output_type": "display_data"
    },
    {
     "data": {
      "application/vnd.jupyter.widget-view+json": {
       "model_id": "72959a3b41994785ac75da5c717462b8",
       "version_major": 2,
       "version_minor": 0
      },
      "text/plain": [
       "HBox(children=(IntProgress(value=0, max=2030), HTML(value='')))"
      ]
     },
     "metadata": {},
     "output_type": "display_data"
    },
    {
     "data": {
      "application/vnd.jupyter.widget-view+json": {
       "model_id": "64f60413aa424fd8911e929c87ce788d",
       "version_major": 2,
       "version_minor": 0
      },
      "text/plain": [
       "HBox(children=(IntProgress(value=0, max=2030), HTML(value='')))"
      ]
     },
     "metadata": {},
     "output_type": "display_data"
    },
    {
     "data": {
      "application/vnd.jupyter.widget-view+json": {
       "model_id": "548a2c81d23244198765e9357f80ea6e",
       "version_major": 2,
       "version_minor": 0
      },
      "text/plain": [
       "HBox(children=(IntProgress(value=0, max=2030), HTML(value='')))"
      ]
     },
     "metadata": {},
     "output_type": "display_data"
    },
    {
     "data": {
      "application/vnd.jupyter.widget-view+json": {
       "model_id": "5ff18debbfee4571ad50a57c6629ba65",
       "version_major": 2,
       "version_minor": 0
      },
      "text/plain": [
       "HBox(children=(IntProgress(value=0, max=2030), HTML(value='')))"
      ]
     },
     "metadata": {},
     "output_type": "display_data"
    },
    {
     "data": {
      "application/vnd.jupyter.widget-view+json": {
       "model_id": "f4faf4f7b0924d38ae0558d6196a0fa2",
       "version_major": 2,
       "version_minor": 0
      },
      "text/plain": [
       "HBox(children=(IntProgress(value=0, max=2030), HTML(value='')))"
      ]
     },
     "metadata": {},
     "output_type": "display_data"
    },
    {
     "data": {
      "application/vnd.jupyter.widget-view+json": {
       "model_id": "5d4d9c90428a438ca30bfc5e702de31b",
       "version_major": 2,
       "version_minor": 0
      },
      "text/plain": [
       "HBox(children=(IntProgress(value=0, max=2030), HTML(value='')))"
      ]
     },
     "metadata": {},
     "output_type": "display_data"
    },
    {
     "data": {
      "application/vnd.jupyter.widget-view+json": {
       "model_id": "540c0b6ec493471cbedfa971e70c540d",
       "version_major": 2,
       "version_minor": 0
      },
      "text/plain": [
       "HBox(children=(IntProgress(value=0, max=2030), HTML(value='')))"
      ]
     },
     "metadata": {},
     "output_type": "display_data"
    },
    {
     "data": {
      "application/vnd.jupyter.widget-view+json": {
       "model_id": "5f60fe7e90fa4c9aadccb6ebfbebc713",
       "version_major": 2,
       "version_minor": 0
      },
      "text/plain": [
       "HBox(children=(IntProgress(value=0, max=2030), HTML(value='')))"
      ]
     },
     "metadata": {},
     "output_type": "display_data"
    },
    {
     "data": {
      "application/vnd.jupyter.widget-view+json": {
       "model_id": "c0beb6ce57aa4085b06359af57b9499c",
       "version_major": 2,
       "version_minor": 0
      },
      "text/plain": [
       "HBox(children=(IntProgress(value=0, max=2030), HTML(value='')))"
      ]
     },
     "metadata": {},
     "output_type": "display_data"
    },
    {
     "data": {
      "application/vnd.jupyter.widget-view+json": {
       "model_id": "536a309338ac40f6a9517ce91b3032f7",
       "version_major": 2,
       "version_minor": 0
      },
      "text/plain": [
       "HBox(children=(IntProgress(value=0, max=2030), HTML(value='')))"
      ]
     },
     "metadata": {},
     "output_type": "display_data"
    },
    {
     "data": {
      "application/vnd.jupyter.widget-view+json": {
       "model_id": "d97720d139364e3789b31c047593043f",
       "version_major": 2,
       "version_minor": 0
      },
      "text/plain": [
       "HBox(children=(IntProgress(value=0, max=2030), HTML(value='')))"
      ]
     },
     "metadata": {},
     "output_type": "display_data"
    },
    {
     "data": {
      "application/vnd.jupyter.widget-view+json": {
       "model_id": "b8484ba6ad7e4d4fa9865ab5cb3f5c00",
       "version_major": 2,
       "version_minor": 0
      },
      "text/plain": [
       "HBox(children=(IntProgress(value=0, max=2030), HTML(value='')))"
      ]
     },
     "metadata": {},
     "output_type": "display_data"
    },
    {
     "data": {
      "application/vnd.jupyter.widget-view+json": {
       "model_id": "a47d7708a52e48a492d14850e4e2d7bf",
       "version_major": 2,
       "version_minor": 0
      },
      "text/plain": [
       "HBox(children=(IntProgress(value=0, max=2030), HTML(value='')))"
      ]
     },
     "metadata": {},
     "output_type": "display_data"
    },
    {
     "data": {
      "application/vnd.jupyter.widget-view+json": {
       "model_id": "87ed4024f4a9479299347a6dede733c2",
       "version_major": 2,
       "version_minor": 0
      },
      "text/plain": [
       "HBox(children=(IntProgress(value=0, max=2030), HTML(value='')))"
      ]
     },
     "metadata": {},
     "output_type": "display_data"
    },
    {
     "name": "stdout",
     "output_type": "stream",
     "text": [
      "\n"
     ]
    }
   ],
   "source": [
    "loss_list,auc_list,acc_list = train_dien(net, train_iter, test_iter, loss, train_batch_size, 0.1, 30, ctx, './logs', 'loss_base_dien','auc_base_dien',acc_name='acc_base_dien')"
   ]
  },
  {
   "cell_type": "code",
   "execution_count": 9,
   "metadata": {
    "ExecuteTime": {
     "end_time": "2019-04-24T06:13:57.692465Z",
     "start_time": "2019-04-24T06:13:57.671024Z"
    }
   },
   "outputs": [],
   "source": [
    "file_name = model_name+'_loss_auc_acc.pkl'\n",
    "with open(file_name, 'wb') as f:\n",
    "    pickle.dump(loss_list, f, pickle.HIGHEST_PROTOCOL)\n",
    "    pickle.dump(auc_list, f, pickle.HIGHEST_PROTOCOL)\n",
    "    pickle.dump(acc_list, f, pickle.HIGHEST_PROTOCOL)\n",
    "    pickle.dump(model_name, f, pickle.HIGHEST_PROTOCOL)\n",
    "net.save_parameters(model_name+'.net')"
   ]
  },
  {
   "cell_type": "code",
   "execution_count": null,
   "metadata": {},
   "outputs": [],
   "source": []
  }
 ],
 "metadata": {
  "kernelspec": {
   "display_name": "Python 3",
   "language": "python",
   "name": "python3"
  },
  "language_info": {
   "codemirror_mode": {
    "name": "ipython",
    "version": 3
   },
   "file_extension": ".py",
   "mimetype": "text/x-python",
   "name": "python",
   "nbconvert_exporter": "python",
   "pygments_lexer": "ipython3",
   "version": "3.6.0"
  },
  "toc": {
   "base_numbering": 1,
   "nav_menu": {},
   "number_sections": true,
   "sideBar": true,
   "skip_h1_title": false,
   "title_cell": "Table of Contents",
   "title_sidebar": "Contents",
   "toc_cell": false,
   "toc_position": {
    "height": "calc(100% - 180px)",
    "left": "10px",
    "top": "150px",
    "width": "165px"
   },
   "toc_section_display": true,
   "toc_window_display": true
  }
 },
 "nbformat": 4,
 "nbformat_minor": 2
}
