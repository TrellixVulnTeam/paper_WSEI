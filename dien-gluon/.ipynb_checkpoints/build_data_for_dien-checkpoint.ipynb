{
 "cells": [
  {
   "cell_type": "code",
   "execution_count": null,
   "metadata": {
    "ExecuteTime": {
     "end_time": "2019-04-23T03:29:44.463054Z",
     "start_time": "2019-04-23T03:29:44.373916Z"
    }
   },
   "outputs": [],
   "source": [
    "import random\n",
    "import pickle\n",
    "import numpy as np"
   ]
  },
  {
   "cell_type": "code",
   "execution_count": null,
   "metadata": {
    "ExecuteTime": {
     "end_time": "2019-04-23T03:29:45.007767Z",
     "start_time": "2019-04-23T03:29:45.001098Z"
    }
   },
   "outputs": [],
   "source": [
    "min_history_len = 20  # 该参数与build_data_din中的参数保持一致"
   ]
  },
  {
   "cell_type": "code",
   "execution_count": null,
   "metadata": {
    "ExecuteTime": {
     "end_time": "2019-04-23T03:29:46.062684Z",
     "start_time": "2019-04-23T03:29:45.571372Z"
    },
    "code_folding": [
     0
    ]
   },
   "outputs": [],
   "source": [
    "with open('/data/CaoZhong/raw_data/din_raw_data_sub/remap.pkl', 'rb') as f:\n",
    "    reviews_df = pickle.load(f)\n",
    "    cate_list = pickle.load(f)\n",
    "    user_count, item_count, cate_count, example_count = pickle.load(f)"
   ]
  },
  {
   "cell_type": "code",
   "execution_count": null,
   "metadata": {
    "ExecuteTime": {
     "end_time": "2019-04-23T04:40:11.952352Z",
     "start_time": "2019-04-23T04:40:11.931534Z"
    },
    "code_folding": [
     0
    ],
    "scrolled": true
   },
   "outputs": [],
   "source": [
    "def get_data_set(reviews_df, min_history_len):\n",
    "    train_set, test_set = [], []\n",
    "    max_histroy_len = 0\n",
    "    for reviewerID, hist in reviews_df.groupby('reviewerID'):\n",
    "        pos_list = hist['asin'].tolist()                      # 得到该用户正例的iid（item_id）\n",
    "        if max_histroy_len < len(pos_list):\n",
    "            max_histroy_len = len(pos_list)\n",
    "        # 随机产生一个不在正例里的负例id，负采样的方法可以改进\n",
    "        def gen_neg():\n",
    "            neg_list = []\n",
    "            while True:\n",
    "                neg = pos_list[0]\n",
    "                while neg in pos_list:\n",
    "                    neg = random.randint(0, item_count-1)\n",
    "                neg_list.append(neg)\n",
    "                if len(neg_list)>=5:\n",
    "                    break\n",
    "            return neg_list\n",
    "\n",
    "        neg_list = [gen_neg() for i in range(len(pos_list))]   # 为每一个正例生成5个负例\n",
    "\n",
    "        for i in range(20, len(pos_list)):\n",
    "            hist = pos_list[:i]\n",
    "            hist_neg = neg_list[:i]\n",
    "            if i != len(pos_list) -1:\n",
    "                train_set.append((reviewerID, hist,hist_neg, pos_list[i], 1))\n",
    "                train_set.append((reviewerID, hist,hist_neg, neg_list[i][0], 0))\n",
    "            else:\n",
    "                test_set.append((reviewerID, hist,hist_neg, pos_list[i], 1))\n",
    "                test_set.append((reviewerID, hist,hist_neg, neg_list[i][0], 0))\n",
    "    random.shuffle(train_set)\n",
    "    random.shuffle(test_set)\n",
    "    return train_set, test_set, max_histroy_len"
   ]
  },
  {
   "cell_type": "code",
   "execution_count": null,
   "metadata": {
    "ExecuteTime": {
     "end_time": "2019-04-22T13:30:34.190969Z",
     "start_time": "2019-04-22T13:30:33.948833Z"
    }
   },
   "outputs": [],
   "source": [
    "train_set, test_set, max_hitory_len = get_data_set(reviews_df, min_history_len)\n",
    "print('test set size:%d\\tuser count:%d' % (len(test_set), user_count))"
   ]
  },
  {
   "cell_type": "code",
   "execution_count": null,
   "metadata": {
    "ExecuteTime": {
     "end_time": "2019-04-22T13:30:47.734667Z",
     "start_time": "2019-04-22T13:30:46.133873Z"
    },
    "code_folding": [
     0
    ]
   },
   "outputs": [],
   "source": [
    "with open('/data/CaoZhong/data/dien/dataset_sub_gluon.pkl', 'wb') as f:\n",
    "    pickle.dump(train_set, f, pickle.HIGHEST_PROTOCOL)\n",
    "    pickle.dump(test_set, f, pickle.HIGHEST_PROTOCOL)\n",
    "    pickle.dump(cate_list, f, pickle.HIGHEST_PROTOCOL)\n",
    "    pickle.dump((user_count, item_count, cate_count), f, pickle.HIGHEST_PROTOCOL)\n",
    "    pickle.dump(max_histroy_len, f, pickle.HIGHEST_PROTOCOL)"
   ]
  },
  {
   "cell_type": "code",
   "execution_count": null,
   "metadata": {
    "ExecuteTime": {
     "end_time": "2019-04-22T13:31:37.910424Z",
     "start_time": "2019-04-22T13:31:37.905251Z"
    }
   },
   "outputs": [],
   "source": [
    "print(max_histroy_len)"
   ]
  },
  {
   "cell_type": "code",
   "execution_count": null,
   "metadata": {},
   "outputs": [],
   "source": []
  }
 ],
 "metadata": {
  "kernelspec": {
   "display_name": "Python 3",
   "language": "python",
   "name": "python3"
  },
  "language_info": {
   "codemirror_mode": {
    "name": "ipython",
    "version": 3
   },
   "file_extension": ".py",
   "mimetype": "text/x-python",
   "name": "python",
   "nbconvert_exporter": "python",
   "pygments_lexer": "ipython3",
   "version": "3.6.0"
  },
  "toc": {
   "base_numbering": 1,
   "nav_menu": {},
   "number_sections": true,
   "sideBar": true,
   "skip_h1_title": false,
   "title_cell": "Table of Contents",
   "title_sidebar": "Contents",
   "toc_cell": false,
   "toc_position": {},
   "toc_section_display": true,
   "toc_window_display": false
  }
 },
 "nbformat": 4,
 "nbformat_minor": 2
}
