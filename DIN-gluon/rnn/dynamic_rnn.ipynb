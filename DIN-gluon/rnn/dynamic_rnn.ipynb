{
 "cells": [
  {
   "cell_type": "code",
   "execution_count": 1,
   "metadata": {
    "ExecuteTime": {
     "end_time": "2019-04-15T06:53:31.971946Z",
     "start_time": "2019-04-15T06:53:27.846419Z"
    }
   },
   "outputs": [],
   "source": [
    "import mxnet as mx\n",
    "from mxnet import gluon, nd\n",
    "from mxnet.gluon import rnn"
   ]
  },
  {
   "cell_type": "code",
   "execution_count": 2,
   "metadata": {
    "ExecuteTime": {
     "end_time": "2019-04-15T06:53:31.990962Z",
     "start_time": "2019-04-15T06:53:31.976832Z"
    }
   },
   "outputs": [],
   "source": [
    "def dynamic_rnn(cell, inputs, h0=None, c0=None, sequence_length=None):\n",
    "    \n",
    "    cell.initialize(ctx = inputs.context)\n",
    "    if h0 is None:\n",
    "        out = cell(inputs)\n",
    "        if sequence_length is None:\n",
    "            return out\n",
    "        else:\n",
    "            return out[sequence_length-1, nd.array(list(range(len(sequence_length))),ctx = inputs.context), :]\n",
    "            \n",
    "    else:\n",
    "        if c0 is None:\n",
    "            out, hn = cell(inputs, h0)\n",
    "        else:\n",
    "            out, hn = cell(inputs, [h0, c0])\n",
    "        if sequence_length is None:\n",
    "            return out,hn\n",
    "        else:\n",
    "            return out[sequence_length-1, list(range(len(sequence_length))), :], hn"
   ]
  },
  {
   "cell_type": "code",
   "execution_count": 6,
   "metadata": {
    "ExecuteTime": {
     "end_time": "2019-04-15T06:55:13.993750Z",
     "start_time": "2019-04-15T06:55:13.985543Z"
    }
   },
   "outputs": [],
   "source": [
    "x = nd.random.normal(shape=(3,2,3),ctx=mx.gpu(1))\n",
    "h0 = nd.ones(shape=(1,2,3),ctx=mx.gpu(1))"
   ]
  },
  {
   "cell_type": "code",
   "execution_count": 10,
   "metadata": {
    "ExecuteTime": {
     "end_time": "2019-04-15T06:56:45.051848Z",
     "start_time": "2019-04-15T06:56:45.028087Z"
    }
   },
   "outputs": [],
   "source": [
    "o,h = dynamic_rnn(rnn.LSTM(3), x, h0=h0, c0=h0,sequence_length=nd.array([2,3], ctx=mx.gpu(1)))"
   ]
  },
  {
   "cell_type": "code",
   "execution_count": 50,
   "metadata": {
    "ExecuteTime": {
     "end_time": "2019-04-15T11:39:30.471103Z",
     "start_time": "2019-04-15T11:39:30.464551Z"
    }
   },
   "outputs": [],
   "source": [
    "l = rnn.RNN(4)\n",
    "l.initialize()"
   ]
  },
  {
   "cell_type": "code",
   "execution_count": 42,
   "metadata": {
    "ExecuteTime": {
     "end_time": "2019-04-15T07:11:03.883022Z",
     "start_time": "2019-04-15T07:11:03.869144Z"
    }
   },
   "outputs": [],
   "source": [
    "layer = mx.gluon.rnn.LSTM(3)\n",
    "layer.initialize()\n",
    "input = mx.nd.random.uniform(shape=(3, 4, 2))\n",
    "# by default zeros are used as begin state\n",
    "# output = layer(input)\n",
    "# manually specify begin state.\n",
    "h0 = mx.nd.random.uniform(shape=(1, 4, 3))\n",
    "c0 = mx.nd.random.uniform(shape=(1, 4, 3))\n",
    "output, hn = layer(input, [h0, c0])"
   ]
  },
  {
   "cell_type": "code",
   "execution_count": null,
   "metadata": {},
   "outputs": [],
   "source": []
  }
 ],
 "metadata": {
  "kernelspec": {
   "display_name": "Python 3",
   "language": "python",
   "name": "python3"
  },
  "language_info": {
   "codemirror_mode": {
    "name": "ipython",
    "version": 3
   },
   "file_extension": ".py",
   "mimetype": "text/x-python",
   "name": "python",
   "nbconvert_exporter": "python",
   "pygments_lexer": "ipython3",
   "version": "3.6.0"
  },
  "toc": {
   "base_numbering": 1,
   "nav_menu": {},
   "number_sections": true,
   "sideBar": true,
   "skip_h1_title": false,
   "title_cell": "Table of Contents",
   "title_sidebar": "Contents",
   "toc_cell": false,
   "toc_position": {},
   "toc_section_display": true,
   "toc_window_display": false
  }
 },
 "nbformat": 4,
 "nbformat_minor": 2
}
