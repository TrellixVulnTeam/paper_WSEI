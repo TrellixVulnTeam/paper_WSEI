{
 "cells": [
  {
   "cell_type": "code",
   "execution_count": 1,
   "metadata": {
    "ExecuteTime": {
     "end_time": "2019-04-15T06:29:22.638874Z",
     "start_time": "2019-04-15T06:29:20.722100Z"
    }
   },
   "outputs": [],
   "source": [
    "import mxnet as mx\n",
    "from mxnet import gluon, nd\n",
    "from mxnet.gluon import nn, rnn"
   ]
  },
  {
   "cell_type": "code",
   "execution_count": 35,
   "metadata": {
    "ExecuteTime": {
     "end_time": "2019-04-15T06:42:57.665552Z",
     "start_time": "2019-04-15T06:42:57.660887Z"
    }
   },
   "outputs": [],
   "source": [
    "a = nd.array(range(24)).reshape((2,3,4))\n",
    "sl = nd.array([1,2,1]) - 1"
   ]
  },
  {
   "cell_type": "code",
   "execution_count": 33,
   "metadata": {
    "ExecuteTime": {
     "end_time": "2019-04-15T06:42:24.325088Z",
     "start_time": "2019-04-15T06:42:24.316117Z"
    }
   },
   "outputs": [
    {
     "data": {
      "text/plain": [
       "\n",
       "[[[  0.   1.   2.   3.]\n",
       "  [  4.   5.   6.   7.]\n",
       "  [  8.   9.  10.  11.]]\n",
       "\n",
       " [[ 12.  13.  14.  15.]\n",
       "  [ 16.  17.  18.  19.]\n",
       "  [ 20.  21.  22.  23.]]]\n",
       "<NDArray 2x3x4 @cpu(0)>"
      ]
     },
     "execution_count": 33,
     "metadata": {},
     "output_type": "execute_result"
    }
   ],
   "source": [
    "a"
   ]
  },
  {
   "cell_type": "code",
   "execution_count": 37,
   "metadata": {
    "ExecuteTime": {
     "end_time": "2019-04-15T06:43:09.691116Z",
     "start_time": "2019-04-15T06:43:09.682065Z"
    }
   },
   "outputs": [
    {
     "data": {
      "text/plain": [
       "\n",
       "[[  0.   1.   2.   3.]\n",
       " [ 16.  17.  18.  19.]\n",
       " [  8.   9.  10.  11.]]\n",
       "<NDArray 3x4 @cpu(0)>"
      ]
     },
     "execution_count": 37,
     "metadata": {},
     "output_type": "execute_result"
    }
   ],
   "source": [
    "a[sl,list(range(3)),:]"
   ]
  },
  {
   "cell_type": "code",
   "execution_count": 28,
   "metadata": {
    "ExecuteTime": {
     "end_time": "2019-04-15T06:40:50.340882Z",
     "start_time": "2019-04-15T06:40:50.334535Z"
    }
   },
   "outputs": [
    {
     "data": {
      "text/plain": [
       "\n",
       "[[  0.   1.   2.   3.]\n",
       " [ 16.  17.  18.  19.]\n",
       " [  8.   9.  10.  11.]]\n",
       "<NDArray 3x4 @cpu(0)>"
      ]
     },
     "execution_count": 28,
     "metadata": {},
     "output_type": "execute_result"
    }
   ],
   "source": [
    "a[[0,1,0],[0,1,2],:]"
   ]
  },
  {
   "cell_type": "code",
   "execution_count": 5,
   "metadata": {
    "ExecuteTime": {
     "end_time": "2019-04-15T06:30:18.133747Z",
     "start_time": "2019-04-15T06:30:18.128318Z"
    }
   },
   "outputs": [],
   "source": [
    "t = nd.array([1,0,1])"
   ]
  },
  {
   "cell_type": "code",
   "execution_count": 6,
   "metadata": {
    "ExecuteTime": {
     "end_time": "2019-04-15T06:30:22.888403Z",
     "start_time": "2019-04-15T06:30:22.786436Z"
    }
   },
   "outputs": [
    {
     "data": {
      "text/plain": [
       "\n",
       "[[[ 12.  13.  14.  15.]\n",
       "  [ 16.  17.  18.  19.]\n",
       "  [ 20.  21.  22.  23.]]\n",
       "\n",
       " [[  0.   1.   2.   3.]\n",
       "  [  4.   5.   6.   7.]\n",
       "  [  8.   9.  10.  11.]]\n",
       "\n",
       " [[ 12.  13.  14.  15.]\n",
       "  [ 16.  17.  18.  19.]\n",
       "  [ 20.  21.  22.  23.]]]\n",
       "<NDArray 3x3x4 @cpu(0)>"
      ]
     },
     "execution_count": 6,
     "metadata": {},
     "output_type": "execute_result"
    }
   ],
   "source": [
    "a[t]"
   ]
  },
  {
   "cell_type": "code",
   "execution_count": 38,
   "metadata": {
    "ExecuteTime": {
     "end_time": "2019-04-15T06:44:14.393709Z",
     "start_time": "2019-04-15T06:44:14.384015Z"
    }
   },
   "outputs": [
    {
     "ename": "SyntaxError",
     "evalue": "invalid syntax (<ipython-input-38-d1ad34871247>, line 5)",
     "output_type": "error",
     "traceback": [
      "\u001b[0;36m  File \u001b[0;32m\"<ipython-input-38-d1ad34871247>\"\u001b[0;36m, line \u001b[0;32m5\u001b[0m\n\u001b[0;31m    if sequence_length not None:\u001b[0m\n\u001b[0m                              ^\u001b[0m\n\u001b[0;31mSyntaxError\u001b[0m\u001b[0;31m:\u001b[0m invalid syntax\n"
     ]
    }
   ],
   "source": [
    "def dynamic_rnn(cell, inputs, h0=None, c0=None, sequence_length=None):\n",
    "    cell.initialize()\n",
    "    if h0 is None:\n",
    "        out = cell(inputs)\n",
    "        if sequence_length is None:\n",
    "            return out\n",
    "        else:\n",
    "            return out[sequence_length-1, list(range(len(sequence_length))), :]\n",
    "            \n",
    "    else:\n",
    "        if c0 is None:\n",
    "            out, hn = cell(inputs, h0)\n",
    "        else:\n",
    "            out, hn = cell(inputs, [h0, c0])\n",
    "        if sequence_length is None:\n",
    "            return out,hn\n",
    "        else:\n",
    "            return out[sequence_length-1, list(range(len(sequence_length))), :], hn"
   ]
  },
  {
   "cell_type": "code",
   "execution_count": 15,
   "metadata": {
    "ExecuteTime": {
     "end_time": "2019-04-15T06:00:37.654028Z",
     "start_time": "2019-04-15T06:00:37.645209Z"
    }
   },
   "outputs": [],
   "source": [
    "l = rnn.GRU(9)\n",
    "l.initialize()"
   ]
  },
  {
   "cell_type": "code",
   "execution_count": 21,
   "metadata": {
    "ExecuteTime": {
     "end_time": "2019-04-15T06:02:19.804287Z",
     "start_time": "2019-04-15T06:02:19.797347Z"
    }
   },
   "outputs": [],
   "source": [
    "x = nd.random.normal(shape=(1,2,3))\n",
    "h0 = nd.ones(shape=(1,2,9))"
   ]
  },
  {
   "cell_type": "code",
   "execution_count": 24,
   "metadata": {
    "ExecuteTime": {
     "end_time": "2019-04-15T06:04:30.291899Z",
     "start_time": "2019-04-15T06:04:30.282253Z"
    }
   },
   "outputs": [],
   "source": [
    "layer_lstm = rnn.LSTM(9)\n",
    "layer_lstm.initialize()"
   ]
  },
  {
   "cell_type": "code",
   "execution_count": 28,
   "metadata": {
    "ExecuteTime": {
     "end_time": "2019-04-15T06:06:02.355890Z",
     "start_time": "2019-04-15T06:06:02.344618Z"
    }
   },
   "outputs": [
    {
     "name": "stdout",
     "output_type": "stream",
     "text": [
      "Help on LSTM in module mxnet.gluon.rnn.rnn_layer object:\n",
      "\n",
      "class LSTM(_RNNLayer)\n",
      " |  Applies a multi-layer long short-term memory (LSTM) RNN to an input sequence.\n",
      " |  \n",
      " |  For each element in the input sequence, each layer computes the following\n",
      " |  function:\n",
      " |  \n",
      " |  .. math::\n",
      " |      \\begin{array}{ll}\n",
      " |      i_t = sigmoid(W_{ii} x_t + b_{ii} + W_{hi} h_{(t-1)} + b_{hi}) \\\\\n",
      " |      f_t = sigmoid(W_{if} x_t + b_{if} + W_{hf} h_{(t-1)} + b_{hf}) \\\\\n",
      " |      g_t = \\tanh(W_{ig} x_t + b_{ig} + W_{hc} h_{(t-1)} + b_{hg}) \\\\\n",
      " |      o_t = sigmoid(W_{io} x_t + b_{io} + W_{ho} h_{(t-1)} + b_{ho}) \\\\\n",
      " |      c_t = f_t * c_{(t-1)} + i_t * g_t \\\\\n",
      " |      h_t = o_t * \\tanh(c_t)\n",
      " |      \\end{array}\n",
      " |  \n",
      " |  where :math:`h_t` is the hidden state at time `t`, :math:`c_t` is the\n",
      " |  cell state at time `t`, :math:`x_t` is the hidden state of the previous\n",
      " |  layer at time `t` or :math:`input_t` for the first layer, and :math:`i_t`,\n",
      " |  :math:`f_t`, :math:`g_t`, :math:`o_t` are the input, forget, cell, and\n",
      " |  out gates, respectively.\n",
      " |  \n",
      " |  Parameters\n",
      " |  ----------\n",
      " |  hidden_size: int\n",
      " |      The number of features in the hidden state h.\n",
      " |  num_layers: int, default 1\n",
      " |      Number of recurrent layers.\n",
      " |  layout : str, default 'TNC'\n",
      " |      The format of input and output tensors. T, N and C stand for\n",
      " |      sequence length, batch size, and feature dimensions respectively.\n",
      " |  dropout: float, default 0\n",
      " |      If non-zero, introduces a dropout layer on the outputs of each\n",
      " |      RNN layer except the last layer.\n",
      " |  bidirectional: bool, default False\n",
      " |      If `True`, becomes a bidirectional RNN.\n",
      " |  i2h_weight_initializer : str or Initializer\n",
      " |      Initializer for the input weights matrix, used for the linear\n",
      " |      transformation of the inputs.\n",
      " |  h2h_weight_initializer : str or Initializer\n",
      " |      Initializer for the recurrent weights matrix, used for the linear\n",
      " |      transformation of the recurrent state.\n",
      " |  i2h_bias_initializer : str or Initializer, default 'lstmbias'\n",
      " |      Initializer for the bias vector. By default, bias for the forget\n",
      " |      gate is initialized to 1 while all other biases are initialized\n",
      " |      to zero.\n",
      " |  h2h_bias_initializer : str or Initializer\n",
      " |      Initializer for the bias vector.\n",
      " |  input_size: int, default 0\n",
      " |      The number of expected features in the input x.\n",
      " |      If not specified, it will be inferred from input.\n",
      " |  prefix : str or None\n",
      " |      Prefix of this `Block`.\n",
      " |  params : `ParameterDict` or `None`\n",
      " |      Shared Parameters for this `Block`.\n",
      " |  \n",
      " |  \n",
      " |  Inputs:\n",
      " |      - **data**: input tensor with shape `(sequence_length, batch_size, input_size)`\n",
      " |        when `layout` is \"TNC\". For other layouts dimensions are permuted accordingly.\n",
      " |      - **states**: a list of two initial recurrent state tensors. Each has shape\n",
      " |        `(num_layers, batch_size, num_hidden)`. If `bidirectional` is True,\n",
      " |        shape will instead be `(2*num_layers, batch_size, num_hidden)`. If\n",
      " |        `states` is None, zeros will be used as default begin states.\n",
      " |  \n",
      " |  Outputs:\n",
      " |      - **out**: output tensor with shape `(sequence_length, batch_size, num_hidden)`\n",
      " |        when `layout` is \"TNC\". If `bidirectional` is True, output shape will instead\n",
      " |        be `(sequence_length, batch_size, 2*num_hidden)`\n",
      " |      - **out_states**: a list of two output recurrent state tensors with the same\n",
      " |        shape as in `states`. If `states` is None `out_states` will not be returned.\n",
      " |  \n",
      " |  \n",
      " |  Examples\n",
      " |  --------\n",
      " |  >>> layer = mx.gluon.rnn.LSTM(100, 3)\n",
      " |  >>> layer.initialize()\n",
      " |  >>> input = mx.nd.random.uniform(shape=(5, 3, 10))\n",
      " |  >>> # by default zeros are used as begin state\n",
      " |  >>> output = layer(input)\n",
      " |  >>> # manually specify begin state.\n",
      " |  >>> h0 = mx.nd.random.uniform(shape=(3, 3, 100))\n",
      " |  >>> c0 = mx.nd.random.uniform(shape=(3, 3, 100))\n",
      " |  >>> output, hn = layer(input, [h0, c0])\n",
      " |  \n",
      " |  Method resolution order:\n",
      " |      LSTM\n",
      " |      _RNNLayer\n",
      " |      mxnet.gluon.block.Block\n",
      " |      builtins.object\n",
      " |  \n",
      " |  Methods defined here:\n",
      " |  \n",
      " |  __init__(self, hidden_size, num_layers=1, layout='TNC', dropout=0, bidirectional=False, input_size=0, i2h_weight_initializer=None, h2h_weight_initializer=None, i2h_bias_initializer='zeros', h2h_bias_initializer='zeros', **kwargs)\n",
      " |      Initialize self.  See help(type(self)) for accurate signature.\n",
      " |  \n",
      " |  state_info(self, batch_size=0)\n",
      " |  \n",
      " |  ----------------------------------------------------------------------\n",
      " |  Methods inherited from _RNNLayer:\n",
      " |  \n",
      " |  __repr__(self)\n",
      " |      Return repr(self).\n",
      " |  \n",
      " |  begin_state(self, batch_size=0, func=<function zeros at 0x7fcedc0508c8>, **kwargs)\n",
      " |      Initial state for this cell.\n",
      " |      \n",
      " |      Parameters\n",
      " |      ----------\n",
      " |      batch_size: int\n",
      " |          Only required for `NDArray` API. Size of the batch ('N' in layout).\n",
      " |          Dimension of the input.\n",
      " |      func : callable, default `ndarray.zeros`\n",
      " |          Function for creating initial state.\n",
      " |      \n",
      " |          For Symbol API, func can be `symbol.zeros`, `symbol.uniform`,\n",
      " |          `symbol.var` etc. Use `symbol.var` if you want to directly\n",
      " |          feed input as states.\n",
      " |      \n",
      " |          For NDArray API, func can be `ndarray.zeros`, `ndarray.ones`, etc.\n",
      " |      \n",
      " |      **kwargs :\n",
      " |          Additional keyword arguments passed to func. For example\n",
      " |          `mean`, `std`, `dtype`, etc.\n",
      " |      \n",
      " |      Returns\n",
      " |      -------\n",
      " |      states : nested list of Symbol\n",
      " |          Starting states for the first RNN step.\n",
      " |  \n",
      " |  forward(self, inputs, states=None)\n",
      " |      Overrides to implement forward computation using :py:class:`NDArray`. Only\n",
      " |      accepts positional arguments.\n",
      " |      \n",
      " |      Parameters\n",
      " |      ----------\n",
      " |      *args : list of NDArray\n",
      " |          Input tensors.\n",
      " |  \n",
      " |  ----------------------------------------------------------------------\n",
      " |  Methods inherited from mxnet.gluon.block.Block:\n",
      " |  \n",
      " |  __call__(self, *args)\n",
      " |      Calls forward. Only accepts positional arguments.\n",
      " |  \n",
      " |  __setattr__(self, name, value)\n",
      " |      Registers parameters.\n",
      " |  \n",
      " |  cast(self, dtype)\n",
      " |      Cast this Block to use another data type.\n",
      " |      \n",
      " |      Parameters\n",
      " |      ----------\n",
      " |      dtype : str or numpy.dtype\n",
      " |          The new data type.\n",
      " |  \n",
      " |  collect_params(self, select=None)\n",
      " |      Returns a :py:class:`ParameterDict` containing this :py:class:`Block` and all of its\n",
      " |      children's Parameters(default), also can returns the select :py:class:`ParameterDict`\n",
      " |      which match some given regular expressions.\n",
      " |      \n",
      " |      For example, collect the specified parameters in ['conv1_weight', 'conv1_bias', 'fc_weight',\n",
      " |      'fc_bias']::\n",
      " |      \n",
      " |          model.collect_params('conv1_weight|conv1_bias|fc_weight|fc_bias')\n",
      " |      \n",
      " |      or collect all parameters whose names end with 'weight' or 'bias', this can be done\n",
      " |      using regular expressions::\n",
      " |      \n",
      " |          model.collect_params('.*weight|.*bias')\n",
      " |      \n",
      " |      Parameters\n",
      " |      ----------\n",
      " |      select : str\n",
      " |          regular expressions\n",
      " |      \n",
      " |      Returns\n",
      " |      -------\n",
      " |      The selected :py:class:`ParameterDict`\n",
      " |  \n",
      " |  hybridize(self, active=True, **kwargs)\n",
      " |      Activates or deactivates :py:class:`HybridBlock` s recursively. Has no effect on\n",
      " |      non-hybrid children.\n",
      " |      \n",
      " |      Parameters\n",
      " |      ----------\n",
      " |      active : bool, default True\n",
      " |          Whether to turn hybrid on or off.\n",
      " |      **kwargs : string\n",
      " |          Additional flags for hybridized operator.\n",
      " |  \n",
      " |  initialize(self, init=<mxnet.initializer.Uniform object at 0x7fce5aeb2b70>, ctx=None, verbose=False, force_reinit=False)\n",
      " |      Initializes :py:class:`Parameter` s of this :py:class:`Block` and its children.\n",
      " |      Equivalent to ``block.collect_params().initialize(...)``\n",
      " |      \n",
      " |      Parameters\n",
      " |      ----------\n",
      " |      init : Initializer\n",
      " |          Global default Initializer to be used when :py:meth:`Parameter.init` is ``None``.\n",
      " |          Otherwise, :py:meth:`Parameter.init` takes precedence.\n",
      " |      ctx : Context or list of Context\n",
      " |          Keeps a copy of Parameters on one or many context(s).\n",
      " |      verbose : bool, default False\n",
      " |          Whether to verbosely print out details on initialization.\n",
      " |      force_reinit : bool, default False\n",
      " |          Whether to force re-initialization if parameter is already initialized.\n",
      " |  \n",
      " |  load_parameters(self, filename, ctx=None, allow_missing=False, ignore_extra=False)\n",
      " |      Load parameters from file previously saved by `save_parameters`.\n",
      " |      \n",
      " |      Parameters\n",
      " |      ----------\n",
      " |      filename : str\n",
      " |          Path to parameter file.\n",
      " |      ctx : Context or list of Context, default cpu()\n",
      " |          Context(s) to initialize loaded parameters on.\n",
      " |      allow_missing : bool, default False\n",
      " |          Whether to silently skip loading parameters not represents in the file.\n",
      " |      ignore_extra : bool, default False\n",
      " |          Whether to silently ignore parameters from the file that are not\n",
      " |          present in this Block.\n",
      " |      \n",
      " |      References\n",
      " |      ----------\n",
      " |      `Saving and Loading Gluon Models\n",
      " |      <https://mxnet.incubator.apache.org/tutorials/gluon/save_load_params.html>`_\n",
      " |  \n",
      " |  load_params(self, filename, ctx=None, allow_missing=False, ignore_extra=False)\n",
      " |      [Deprecated] Please use load_parameters.\n",
      " |      \n",
      " |      Load parameters from file.\n",
      " |      \n",
      " |      filename : str\n",
      " |          Path to parameter file.\n",
      " |      ctx : Context or list of Context, default cpu()\n",
      " |          Context(s) to initialize loaded parameters on.\n",
      " |      allow_missing : bool, default False\n",
      " |          Whether to silently skip loading parameters not represents in the file.\n",
      " |      ignore_extra : bool, default False\n",
      " |          Whether to silently ignore parameters from the file that are not\n",
      " |          present in this Block.\n",
      " |  \n",
      " |  name_scope(self)\n",
      " |      Returns a name space object managing a child :py:class:`Block` and parameter\n",
      " |      names. Should be used within a ``with`` statement::\n",
      " |      \n",
      " |          with self.name_scope():\n",
      " |              self.dense = nn.Dense(20)\n",
      " |      \n",
      " |      Please refer to\n",
      " |      `naming tutorial <http://mxnet.incubator.apache.org/tutorials/basic/naming.html>`_\n",
      " |      for more info on prefix and naming.\n",
      " |  \n",
      " |  register_child(self, block, name=None)\n",
      " |      Registers block as a child of self. :py:class:`Block` s assigned to self as\n",
      " |      attributes will be registered automatically.\n",
      " |  \n",
      " |  save_parameters(self, filename)\n",
      " |      Save parameters to file.\n",
      " |      \n",
      " |      Saved parameters can only be loaded with `load_parameters`. Note that this method\n",
      " |      only saves parameters, not model structure. If you want to save model structures,\n",
      " |      please use :py:meth:`HybridBlock.export`.\n",
      " |      \n",
      " |      Parameters\n",
      " |      ----------\n",
      " |      filename : str\n",
      " |          Path to file.\n",
      " |      \n",
      " |      References\n",
      " |      ----------\n",
      " |      `Saving and Loading Gluon Models\n",
      " |      <https://mxnet.incubator.apache.org/tutorials/gluon/save_load_params.html>`_\n",
      " |  \n",
      " |  save_params(self, filename)\n",
      " |      [Deprecated] Please use save_parameters. Note that if you want to load\n",
      " |      from SymbolBlock later, please use export instead.\n",
      " |      \n",
      " |      Save parameters to file.\n",
      " |      \n",
      " |      filename : str\n",
      " |          Path to file.\n",
      " |  \n",
      " |  ----------------------------------------------------------------------\n",
      " |  Data descriptors inherited from mxnet.gluon.block.Block:\n",
      " |  \n",
      " |  __dict__\n",
      " |      dictionary for instance variables (if defined)\n",
      " |  \n",
      " |  __weakref__\n",
      " |      list of weak references to the object (if defined)\n",
      " |  \n",
      " |  name\n",
      " |      Name of this :py:class:`Block`, without '_' in the end.\n",
      " |  \n",
      " |  params\n",
      " |      Returns this :py:class:`Block`'s parameter dictionary (does not include its\n",
      " |      children's parameters).\n",
      " |  \n",
      " |  prefix\n",
      " |      Prefix of this :py:class:`Block`.\n",
      "\n"
     ]
    }
   ],
   "source": [
    "help(layer_lstm)"
   ]
  },
  {
   "cell_type": "code",
   "execution_count": null,
   "metadata": {},
   "outputs": [],
   "source": []
  }
 ],
 "metadata": {
  "kernelspec": {
   "display_name": "Python 3",
   "language": "python",
   "name": "python3"
  },
  "language_info": {
   "codemirror_mode": {
    "name": "ipython",
    "version": 3
   },
   "file_extension": ".py",
   "mimetype": "text/x-python",
   "name": "python",
   "nbconvert_exporter": "python",
   "pygments_lexer": "ipython3",
   "version": "3.6.0"
  },
  "toc": {
   "base_numbering": 1,
   "nav_menu": {},
   "number_sections": true,
   "sideBar": true,
   "skip_h1_title": false,
   "title_cell": "Table of Contents",
   "title_sidebar": "Contents",
   "toc_cell": false,
   "toc_position": {},
   "toc_section_display": true,
   "toc_window_display": false
  }
 },
 "nbformat": 4,
 "nbformat_minor": 2
}
