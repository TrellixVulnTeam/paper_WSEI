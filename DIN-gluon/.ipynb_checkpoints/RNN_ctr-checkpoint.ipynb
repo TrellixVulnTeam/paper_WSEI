{
 "cells": [
  {
   "cell_type": "code",
   "execution_count": 2,
   "metadata": {
    "ExecuteTime": {
     "end_time": "2019-03-28T02:50:01.356921Z",
     "start_time": "2019-03-28T02:50:01.347318Z"
    }
   },
   "outputs": [],
   "source": [
    "from sklearn import metrics\n",
    "import mxnet as mx\n",
    "from mxnet import autograd, gluon, init, nd\n",
    "from mxnet.gluon import data as gdata, loss as gloss, nn, rnn\n",
    "import pickle\n",
    "import random\n",
    "import time\n",
    "import numpy as np\n",
    "from IPython.display import set_matplotlib_formats\n",
    "from matplotlib import pyplot as plt"
   ]
  },
  {
   "cell_type": "code",
   "execution_count": null,
   "metadata": {},
   "outputs": [],
   "source": [
    "class Model(nn.Block):\n",
    "    def __init__(self,item_count, cate_count, embed_size, num_hiddens, num_layers, ctx, **kwargs):\n",
    "        super(Model, self).__init__(**kwargs)\n",
    "        self.num_hiddens = num_hiddens\n",
    "        self.item_embedding = nn.Embedding(item_count, embed_size)\n",
    "        self.cate_embedding = nn.Embedding(cate_count, embed_size)\n",
    "        self.batch_normal_layer = nn.BatchNorm()\n",
    "        self.encoder = rnn.LSTM(num_hiddens, num_layers, bidirectional=True, input_size=embed_size)\n",
    "        \n",
    "        self.decoder = nn.Sequential()\n",
    "        self.mlp.add(nn.BatchNorm())\n",
    "        self.mlp.add(nn.Dense(80, activation='sigmoid'))\n",
    "        self.mlp.add(nn.Dense(40, activation='sigmoid'))\n",
    "        self.mlp.add(nn.Dense(1, activation=None))\n",
    "        \n",
    "    \n",
    "    def forward(self, item, cate, hist_item, hist_cate, seq_len):\n",
    "        item_idx_emb = self.item_embedding(item)\n",
    "        cate_idx_emb = self.cate_embedding(cate)\n",
    "        item_emb = nd.concat(item_idx_emb, cate_idx_emb, dim=1)\n",
    "        \n",
    "        hist_item_idx_emb = self.item_embedding(hist_item)\n",
    "        hist_cate_idx_emb = self.cate_embedding(hist_cate)\n",
    "        hist_emb = nd.concat(hist_item_idx_emb, hist_cate_idx_emb, dim=1)\n",
    "\n",
    "        \n",
    "        \n",
    "    "
   ]
  }
 ],
 "metadata": {
  "kernelspec": {
   "display_name": "Python 3",
   "language": "python",
   "name": "python3"
  },
  "language_info": {
   "codemirror_mode": {
    "name": "ipython",
    "version": 3
   },
   "file_extension": ".py",
   "mimetype": "text/x-python",
   "name": "python",
   "nbconvert_exporter": "python",
   "pygments_lexer": "ipython3",
   "version": "3.6.0"
  },
  "toc": {
   "base_numbering": 1,
   "nav_menu": {},
   "number_sections": true,
   "sideBar": true,
   "skip_h1_title": false,
   "title_cell": "Table of Contents",
   "title_sidebar": "Contents",
   "toc_cell": false,
   "toc_position": {},
   "toc_section_display": true,
   "toc_window_display": false
  }
 },
 "nbformat": 4,
 "nbformat_minor": 2
}
