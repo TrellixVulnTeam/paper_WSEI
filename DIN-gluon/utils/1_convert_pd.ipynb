{
 "cells": [
  {
   "cell_type": "code",
   "execution_count": 1,
   "metadata": {},
   "outputs": [],
   "source": [
    "import pickle\n",
    "import pandas as pd"
   ]
  },
  {
   "cell_type": "code",
   "execution_count": 2,
   "metadata": {},
   "outputs": [],
   "source": [
    "def to_df(file_path):\n",
    "  with open(file_path, 'r') as fin:\n",
    "    df = {}\n",
    "    i = 0\n",
    "    for line in fin:\n",
    "      df[i] = eval(line)                              # eval-还原数据结构\n",
    "      i += 1\n",
    "    df = pd.DataFrame.from_dict(df, orient='index')   \n",
    "    return df"
   ]
  },
  {
   "cell_type": "code",
   "execution_count": 3,
   "metadata": {},
   "outputs": [],
   "source": [
    "reviews_df = to_df('/data/CaoZhong/Paper/DIN/raw_data/reviews_Electronics_5.json')\n",
    "\n",
    "# 保存评论\n",
    "with open('../raw_data/reviews.pkl', 'wb') as f:\n",
    "  pickle.dump(reviews_df, f, pickle.HIGHEST_PROTOCOL)\n",
    "\n",
    "meta_df = to_df('../raw_data/meta_Electronics.json')\n",
    "meta_df = meta_df[meta_df['asin'].isin(reviews_df['asin'].unique())]\n",
    "meta_df = meta_df.reset_index(drop=True)\n",
    "with open('../raw_data/meta.pkl', 'wb') as f:\n",
    "  pickle.dump(meta_df, f, pickle.HIGHEST_PROTOCOL)"
   ]
  },
  {
   "cell_type": "code",
   "execution_count": null,
   "metadata": {},
   "outputs": [],
   "source": []
  }
 ],
 "metadata": {
  "kernelspec": {
   "display_name": "Python 3",
   "language": "python",
   "name": "python3"
  },
  "language_info": {
   "codemirror_mode": {
    "name": "ipython",
    "version": 3
   },
   "file_extension": ".py",
   "mimetype": "text/x-python",
   "name": "python",
   "nbconvert_exporter": "python",
   "pygments_lexer": "ipython3",
   "version": "3.6.0"
  },
  "toc": {
   "base_numbering": 1,
   "nav_menu": {},
   "number_sections": true,
   "sideBar": true,
   "skip_h1_title": false,
   "title_cell": "Table of Contents",
   "title_sidebar": "Contents",
   "toc_cell": false,
   "toc_position": {},
   "toc_section_display": true,
   "toc_window_display": false
  }
 },
 "nbformat": 4,
 "nbformat_minor": 2
}
