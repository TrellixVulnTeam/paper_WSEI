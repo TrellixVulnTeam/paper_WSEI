{
 "cells": [
  {
   "cell_type": "code",
   "execution_count": 7,
   "metadata": {
    "ExecuteTime": {
     "end_time": "2019-04-23T03:22:21.794914Z",
     "start_time": "2019-04-23T03:22:21.790855Z"
    }
   },
   "outputs": [],
   "source": [
    "import random\n",
    "import pickle\n",
    "import numpy as np"
   ]
  },
  {
   "cell_type": "code",
   "execution_count": 3,
   "metadata": {
    "ExecuteTime": {
     "end_time": "2019-04-23T03:20:15.005859Z",
     "start_time": "2019-04-23T03:20:15.002082Z"
    }
   },
   "outputs": [],
   "source": [
    "min_history_len = 20"
   ]
  },
  {
   "cell_type": "code",
   "execution_count": 4,
   "metadata": {
    "ExecuteTime": {
     "end_time": "2019-04-23T03:20:16.415151Z",
     "start_time": "2019-04-23T03:20:15.421907Z"
    }
   },
   "outputs": [],
   "source": [
    "with open('/data/CaoZhong/raw_data/din_raw_data_sub/remap.pkl', 'rb') as f:\n",
    "    reviews_df = pickle.load(f)\n",
    "    cate_list = pickle.load(f)\n",
    "    user_count, item_count, cate_count, example_count = pickle.load(f)"
   ]
  },
  {
   "cell_type": "code",
   "execution_count": 11,
   "metadata": {
    "ExecuteTime": {
     "end_time": "2019-04-23T03:23:38.576101Z",
     "start_time": "2019-04-23T03:23:38.562648Z"
    },
    "code_folding": [
     0
    ]
   },
   "outputs": [],
   "source": [
    "def get_data_set(data_df, min_history_len):\n",
    "    train_set, test_set = [], []\n",
    "    for reviewerID, hist in reviews_df.groupby('reviewerID'):\n",
    "        pos_list = hist['asin'].tolist()                      # 得到该用户正例的iid（item_id）\n",
    "        # 随机产生一个不在正例里的负例id，负采样的方法可以改进\n",
    "        def gen_neg():\n",
    "            neg = pos_list[0]\n",
    "            while neg in pos_list:\n",
    "                neg = random.randint(0, item_count-1)\n",
    "            return neg\n",
    "\n",
    "        neg_list = [gen_neg() for i in range(len(pos_list))]   # 为每一个正例生成一个负例\n",
    "\n",
    "        # 将用户分为多个记录，从前min_history_len个样本开始构造\n",
    "        for i in range(min_history_len, len(pos_list)):\n",
    "            hist = pos_list[:i]\n",
    "            if i != len(pos_list) -1:\n",
    "                train_set.append((reviewerID, hist, pos_list[i], 1))\n",
    "                train_set.append((reviewerID, hist, neg_list[i], 0))\n",
    "            else:\n",
    "                test_set.append((reviewerID, hist, pos_list[i], 1))\n",
    "                test_set.append((reviewerID, hist, neg_list[i], 0))\n",
    "    random.shuffle(train_set)\n",
    "    random.shuffle(test_set)\n",
    "    return train_set, test_set"
   ]
  },
  {
   "cell_type": "code",
   "execution_count": 13,
   "metadata": {
    "ExecuteTime": {
     "end_time": "2019-04-23T03:24:43.492088Z",
     "start_time": "2019-04-23T03:24:41.719094Z"
    }
   },
   "outputs": [],
   "source": [
    "train_set, test_set = get_data_set(reviews_df, min_history_len)"
   ]
  },
  {
   "cell_type": "code",
   "execution_count": 14,
   "metadata": {
    "ExecuteTime": {
     "end_time": "2019-04-23T03:26:15.022342Z",
     "start_time": "2019-04-23T03:26:14.617187Z"
    }
   },
   "outputs": [],
   "source": [
    "with open('/data/CaoZhong/data/din/dataset_sub_gluon.pkl', 'wb') as f:\n",
    "    pickle.dump(train_set, f, pickle.HIGHEST_PROTOCOL)\n",
    "    pickle.dump(test_set, f, pickle.HIGHEST_PROTOCOL)\n",
    "    pickle.dump(cate_list, f, pickle.HIGHEST_PROTOCOL)\n",
    "    pickle.dump((user_count, item_count, cate_count), f, pickle.HIGHEST_PROTOCOL)"
   ]
  },
  {
   "cell_type": "code",
   "execution_count": null,
   "metadata": {},
   "outputs": [],
   "source": []
  }
 ],
 "metadata": {
  "kernelspec": {
   "display_name": "Python 3",
   "language": "python",
   "name": "python3"
  },
  "language_info": {
   "codemirror_mode": {
    "name": "ipython",
    "version": 3
   },
   "file_extension": ".py",
   "mimetype": "text/x-python",
   "name": "python",
   "nbconvert_exporter": "python",
   "pygments_lexer": "ipython3",
   "version": "3.6.0"
  },
  "toc": {
   "base_numbering": 1,
   "nav_menu": {},
   "number_sections": true,
   "sideBar": true,
   "skip_h1_title": false,
   "title_cell": "Table of Contents",
   "title_sidebar": "Contents",
   "toc_cell": false,
   "toc_position": {},
   "toc_section_display": true,
   "toc_window_display": false
  }
 },
 "nbformat": 4,
 "nbformat_minor": 2
}
