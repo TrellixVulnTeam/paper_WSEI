{
 "cells": [
  {
   "cell_type": "markdown",
   "metadata": {},
   "source": [
    "# base model of CTR\n",
    "Embedding + MLP\n",
    "目的：用户的前n个广告点击记录，预测点击第n+1个广告的概率"
   ]
  },
  {
   "cell_type": "code",
   "execution_count": 1,
   "metadata": {
    "ExecuteTime": {
     "end_time": "2019-04-15T14:01:50.066692Z",
     "start_time": "2019-04-15T14:01:43.665117Z"
    }
   },
   "outputs": [],
   "source": [
    "from sklearn import metrics\n",
    "import mxnet as mx\n",
    "from mxnet import autograd, gluon, init, nd\n",
    "from mxnet.gluon import data as gdata, loss as gloss, nn\n",
    "import pickle\n",
    "import random\n",
    "import time\n",
    "import sys\n",
    "sys.path.append('/data/CaoZhong/utils/')\n",
    "from my_utils import *\n",
    "from tqdm import tqdm_notebook"
   ]
  },
  {
   "cell_type": "markdown",
   "metadata": {},
   "source": [
    "## 加载数据"
   ]
  },
  {
   "cell_type": "code",
   "execution_count": 2,
   "metadata": {
    "ExecuteTime": {
     "end_time": "2019-04-15T14:02:43.486003Z",
     "start_time": "2019-04-15T14:02:41.181150Z"
    },
    "code_folding": [],
    "scrolled": true
   },
   "outputs": [
    {
     "name": "stdout",
     "output_type": "stream",
     "text": [
      "user count: 1053\titem count: 63001\tcate count: 801\n",
      "train set len:  68814\n",
      "test set len:  2106\n"
     ]
    }
   ],
   "source": [
    "ctx = mx.gpu(1)\n",
    "train_batch_size = 32\n",
    "test_batch_size = 512\n",
    "model_name = 'din_basemodel_gluon'\n",
    "with open('../data/dataset_sub_gluon.pkl', 'rb') as f:\n",
    "    train_set = pickle.load(f)\n",
    "    test_set = pickle.load(f)\n",
    "    cate_list = pickle.load(f)\n",
    "    user_count, item_count, cate_count = pickle.load(f)\n",
    "random.shuffle(train_set)\n",
    "cate_list = nd.array(cate_list, ctx=ctx)\n",
    "print(\"user count: %d\\titem count: %d\\tcate count: %d\" % (user_count, item_count, cate_count))\n",
    "print(\"train set len: \",len(train_set))\n",
    "print('test set len: ', len(test_set))"
   ]
  },
  {
   "cell_type": "markdown",
   "metadata": {},
   "source": [
    "## 建立模型"
   ]
  },
  {
   "cell_type": "code",
   "execution_count": 3,
   "metadata": {
    "ExecuteTime": {
     "end_time": "2019-04-15T14:02:43.518393Z",
     "start_time": "2019-04-15T14:02:43.489349Z"
    },
    "code_folding": []
   },
   "outputs": [],
   "source": [
    "class HybridNet(nn.HybridBlock):\n",
    "    def __init__(self, item_count, cate_count, embed_size, num_hiddens,  ctx, **kwargs):\n",
    "        super(HybridNet, self).__init__(**kwargs)\n",
    "        self.num_hiddens = num_hiddens\n",
    "        self.item_embedding = nn.Embedding(item_count, embed_size)\n",
    "        self.cate_embedding = nn.Embedding(cate_count, embed_size)\n",
    "        self.batch_normal_layer = nn.BatchNorm()\n",
    "        self.dense_layer = nn.Dense(num_hiddens)\n",
    "        \n",
    "        self.mlp = nn.HybridSequential()\n",
    "        self.mlp.add(nn.BatchNorm())\n",
    "        self.mlp.add(nn.Dense(80, activation='sigmoid'))\n",
    "        self.mlp.add(nn.Dense(40, activation='sigmoid'))\n",
    "        self.mlp.add(nn.Dense(1, activation=None))\n",
    "    \n",
    "    def hybrid_forward(self,F, item, cate, hist, hist_cate, ls):\n",
    "        \n",
    "        item = item.reshape((-1))                         # [B]\n",
    "        item_emb_w = self.item_embedding(item)            # [B, H/2]\n",
    "        \n",
    "        cate_emb_w = self.cate_embedding(cate)\n",
    "        i_emb = F.concat(item_emb_w, cate_emb_w,dim=1)   # [B, H]\n",
    "        \n",
    "        hi_emb = self.item_embedding(hist)                 # [B, T, H/2]\n",
    "        hc_emb = self.cate_embedding(hist_cate)                 # [B, T, H/2]\n",
    "        h_emb = F.concat(hi_emb, hc_emb, dim=-1)          # [B, T, H]\n",
    "        \n",
    "        h_emb = F.SequenceMask(h_emb.swapaxes(0, 1), sequence_length=ls.reshape((-1)), use_sequence_length=True) # [T, B, H]\n",
    "        h_emb = F.mean(h_emb, axis=0)\n",
    "        h_emb = h_emb.reshape((-1, self.num_hiddens))\n",
    "        h_emb = self.batch_normal_layer(h_emb)\n",
    "        h_emb = self.dense_layer(h_emb)\n",
    "        user_emb = h_emb\n",
    "        \n",
    "        din = F.concat(user_emb, i_emb, dim=-1)\n",
    "        score = self.mlp(din)\n",
    "        return score"
   ]
  },
  {
   "cell_type": "markdown",
   "metadata": {},
   "source": [
    "## 混合式编程"
   ]
  },
  {
   "cell_type": "code",
   "execution_count": 4,
   "metadata": {
    "ExecuteTime": {
     "end_time": "2019-04-15T14:02:44.499571Z",
     "start_time": "2019-04-15T14:02:44.495721Z"
    }
   },
   "outputs": [],
   "source": [
    "# cate_list_i = nd.array([0, 1, 2, 3, 4, 5, 6, 7, 8,9] *10 , ctx =ctx)\n",
    "\n",
    "# item_i = nd.array([1,2],ctx=ctx)\n",
    "# hist_i = nd.array([[2,3,0,0],[1,4,7,0]],ctx=ctx)\n",
    "# sl_i = nd.array([2,3],ctx=ctx)\n",
    "# label_i =  nd.array([0,1],ctx=ctx).reshape((2, -1))\n",
    "\n",
    "# cate = cate_list_i[item_i].reshape((-1))\n",
    "# net_i = HybridNet(100, 10, 4, 8, ctx)\n",
    "# net_i.initialize(init=init.Xavier(),force_reinit=True, ctx=ctx)\n",
    "\n",
    "# pred_i = net_i(item_i,cate, hist_i, sl_i)\n",
    "# print(pred_i)"
   ]
  },
  {
   "cell_type": "code",
   "execution_count": 5,
   "metadata": {
    "ExecuteTime": {
     "end_time": "2019-04-15T14:02:44.687226Z",
     "start_time": "2019-04-15T14:02:44.683754Z"
    }
   },
   "outputs": [],
   "source": [
    "# net_i.hybridize()\n",
    "# pred_i = net_i(item_i,cate, hist_i, sl_i)\n",
    "# print(pred_i)"
   ]
  },
  {
   "cell_type": "code",
   "execution_count": 6,
   "metadata": {
    "ExecuteTime": {
     "end_time": "2019-04-15T14:02:44.872765Z",
     "start_time": "2019-04-15T14:02:44.869912Z"
    }
   },
   "outputs": [],
   "source": [
    "# pred_i = net_i(item_i,cate, hist_i, sl_i)\n",
    "# print(pred_i)"
   ]
  },
  {
   "cell_type": "markdown",
   "metadata": {},
   "source": [
    "## 建立数据迭代器"
   ]
  },
  {
   "cell_type": "code",
   "execution_count": 7,
   "metadata": {
    "ExecuteTime": {
     "end_time": "2019-04-15T14:02:45.451592Z",
     "start_time": "2019-04-15T14:02:45.445658Z"
    },
    "code_folding": []
   },
   "outputs": [],
   "source": [
    "def get_data(data_set):    \n",
    "    all_user, all_hist, all_pre,  all_label = [],[],[],[]\n",
    "    for u, hist, pre, label in data_set:\n",
    "        all_user.append(u)\n",
    "        all_hist.append(hist)\n",
    "        all_pre.append(pre)\n",
    "        all_label.append(label)\n",
    "    return all_user, all_hist, all_pre, all_label"
   ]
  },
  {
   "cell_type": "code",
   "execution_count": 8,
   "metadata": {
    "ExecuteTime": {
     "end_time": "2019-04-15T14:02:45.826539Z",
     "start_time": "2019-04-15T14:02:45.817548Z"
    },
    "code_folding": []
   },
   "outputs": [],
   "source": [
    "def batchify(data):\n",
    "    max_len = max([len(h) for u, h ,p, l in data])\n",
    "    uid, hist, pre, label, sl= [], [], [], [], []\n",
    "    for u, h, p, l in data:\n",
    "        uid += [u]\n",
    "        sl += [len(h)]\n",
    "        pre += [p]\n",
    "        hist += [h + [0] * (max_len-len(h))]\n",
    "        label += [l]\n",
    "    return (nd.array(uid).reshape((-1,1)), nd.array(hist), nd.array(pre).reshape((-1, 1)),\n",
    "           nd.array(label).reshape((-1,1)),nd.array(sl).reshape((-1, 1)))"
   ]
  },
  {
   "cell_type": "code",
   "execution_count": 9,
   "metadata": {
    "ExecuteTime": {
     "end_time": "2019-04-15T14:02:46.212493Z",
     "start_time": "2019-04-15T14:02:46.143164Z"
    },
    "code_folding": []
   },
   "outputs": [],
   "source": [
    "# 训练集\n",
    "all_user, all_hist, all_pre, all_label = get_data(train_set)\n",
    "dataset = gdata.ArrayDataset(all_user, all_hist, all_pre, all_label)\n",
    "# 测试集\n",
    "all_user, all_hist, all_pre, all_label = get_data(test_set)\n",
    "dataset_test = gdata.ArrayDataset(all_user, all_hist, all_pre, all_label)\n",
    "\n",
    "# 建立数据迭代器\n",
    "data_iter = gdata.DataLoader(dataset, train_batch_size, shuffle=True, batchify_fn=batchify)\n",
    "data_iter_test = gdata.DataLoader(dataset_test, test_batch_size, shuffle=True, batchify_fn=batchify)"
   ]
  },
  {
   "cell_type": "code",
   "execution_count": 10,
   "metadata": {
    "ExecuteTime": {
     "end_time": "2019-04-15T14:02:46.658102Z",
     "start_time": "2019-04-15T14:02:46.498529Z"
    },
    "code_folding": []
   },
   "outputs": [
    {
     "name": "stdout",
     "output_type": "stream",
     "text": [
      "uid shape:  (32, 1) cpu(0)\n",
      "hist shape:  (32, 311) cpu(0)\n",
      "pre shape:  (32, 1) cpu(0)\n",
      "label shape:  (32, 1) cpu(0)\n",
      "sl shape:  (32, 1) cpu(0)\n",
      "uid shape:  (512, 1)\n",
      "hist shape:  (512, 430)\n",
      "pre shape:  (512, 1)\n",
      "label shape:  (512, 1)\n",
      "sl shape:  (512, 1)\n"
     ]
    }
   ],
   "source": [
    "for batch in data_iter:\n",
    "    for name, data in zip(['uid','hist','pre','label','sl'], batch):\n",
    "        print(name, 'shape: ', data.shape, data.context)        \n",
    "    break\n",
    "for batch in data_iter_test:\n",
    "    for name, data in zip(['uid','hist','pre','label','sl'], batch):\n",
    "        print(name, 'shape: ', data.shape)        \n",
    "    break"
   ]
  },
  {
   "cell_type": "markdown",
   "metadata": {},
   "source": [
    "# 模型训练"
   ]
  },
  {
   "cell_type": "code",
   "execution_count": 11,
   "metadata": {
    "ExecuteTime": {
     "end_time": "2019-04-15T14:02:47.393473Z",
     "start_time": "2019-04-15T14:02:47.375532Z"
    },
    "code_folding": []
   },
   "outputs": [],
   "source": [
    "def eval_auc(net, ctx):\n",
    "    score = None\n",
    "    y = None\n",
    "    for batch in data_iter_test:\n",
    "\n",
    "        uid, hist, pos, label, sl = [data.as_in_context(ctx) for data in batch]\n",
    "        cate = cate_list[pos].reshape((-1))\n",
    "        hist_cate = cate_list[hist]\n",
    "        if score is None:\n",
    "            score = nd.sigmoid(net(pos,cate, hist, hist_cate, sl))\n",
    "            y = label\n",
    "        else:\n",
    "            score = nd.concat(score, nd.sigmoid(net(pos, cate, hist, hist_cate, sl)), dim=0)\n",
    "            y = nd.concat(y, label, dim=0)\n",
    "    fpr,tpr,thresholds = metrics.roc_curve(list(y.asnumpy()),list(score.asnumpy()))\n",
    "    auc = metrics.auc(fpr,tpr)\n",
    "    return auc"
   ]
  },
  {
   "cell_type": "code",
   "execution_count": 12,
   "metadata": {
    "ExecuteTime": {
     "end_time": "2019-04-15T14:02:47.948888Z",
     "start_time": "2019-04-15T14:02:47.922348Z"
    },
    "code_folding": []
   },
   "outputs": [],
   "source": [
    "def train(net, lr, num_epochs, ctx):\n",
    "    auc_list, loss_list, x_vals= [], [], []\n",
    "    trainer = gluon.Trainer(net.collect_params(), 'sgd', {'learning_rate':lr})\n",
    "    \n",
    "    global_step = 1\n",
    "    stime = time.time()\n",
    "    stime2 = time.time()\n",
    "    \n",
    "    loss_val, auc_val, time_val = 0.0, 0.0, 0.0\n",
    "    print('auc: %.4f' % (eval_auc(net, ctx)))\n",
    "    epoch_bar = tqdm_notebook(range(1, num_epochs+1))\n",
    "    for epoch in epoch_bar:\n",
    "        l_sum = 0.0\n",
    "        bar = tqdm_notebook(data_iter)\n",
    "        for batch in bar:\n",
    "            \n",
    "            uid, hist, pre, label, sl = [data.as_in_context(ctx) for data in batch]\n",
    "            cate = cate_list[pre].reshape((-1))\n",
    "            hist_cate = cate_list[hist]\n",
    "            with autograd.record():\n",
    "                pred = net(pre,cate,hist,hist_cate, sl)\n",
    "                l = loss(pred, label)\n",
    "            l.backward()\n",
    "            trainer.step(train_batch_size)\n",
    "            \n",
    "            l_sum += l.mean().asscalar()\n",
    "            \n",
    "            if global_step % 1000 ==0:\n",
    "                \n",
    "                test_auc = eval_auc(net, ctx)\n",
    "                loss_val = l_sum / 1000\n",
    "                auc_val = test_auc\n",
    "                time_val = time.time()-stime2\n",
    "                tip = \"epoch %d, global step:%d, loss %.4f, test auc:%.4f, time:%.2f\" % (epoch,global_step,  loss_val, auc_val, time_val )\n",
    "                bar.set_description_str(tip)\n",
    "                tip_info(tip,out=False)\n",
    "                loss_list.append(l_sum/1000)\n",
    "                auc_list.append(test_auc)\n",
    "                x_vals.append(global_step//1000)\n",
    "                l_sum = 0.0\n",
    "                stime2 = time.time()\n",
    "            global_step += 1\n",
    "        tip = 'epoch %d done, cost time:%.2f' % (epoch, time.time() - stime)\n",
    "        epoch_bar.set_description_str(tip)\n",
    "        tip_info(tip,out=False)\n",
    "\n",
    "    return loss_list, auc_list, x_vals\n",
    "            "
   ]
  },
  {
   "cell_type": "code",
   "execution_count": 13,
   "metadata": {
    "ExecuteTime": {
     "end_time": "2019-04-15T14:02:48.593731Z",
     "start_time": "2019-04-15T14:02:48.582047Z"
    }
   },
   "outputs": [],
   "source": [
    "loss = gloss.SigmoidBinaryCrossEntropyLoss()\n",
    "net = HybridNet(item_count, cate_count, 64, 128, ctx)\n",
    "net.initialize(init=init.Xavier(),force_reinit=True, ctx=ctx)\n",
    "net.hybridize()"
   ]
  },
  {
   "cell_type": "code",
   "execution_count": 14,
   "metadata": {
    "ExecuteTime": {
     "end_time": "2019-04-15T16:04:30.038674Z",
     "start_time": "2019-04-15T14:02:49.117983Z"
    }
   },
   "outputs": [
    {
     "name": "stdout",
     "output_type": "stream",
     "text": [
      "auc: 0.4916\n"
     ]
    },
    {
     "data": {
      "application/vnd.jupyter.widget-view+json": {
       "model_id": "c12c416c9217496f962c3d8be04a6592",
       "version_major": 2,
       "version_minor": 0
      },
      "text/plain": [
       "HBox(children=(IntProgress(value=0, max=30), HTML(value='')))"
      ]
     },
     "metadata": {},
     "output_type": "display_data"
    },
    {
     "data": {
      "application/vnd.jupyter.widget-view+json": {
       "model_id": "3bc3eddb982b4e34aa3c7b56e376fed3",
       "version_major": 2,
       "version_minor": 0
      },
      "text/plain": [
       "HBox(children=(IntProgress(value=0, max=2151), HTML(value='')))"
      ]
     },
     "metadata": {},
     "output_type": "display_data"
    },
    {
     "data": {
      "application/vnd.jupyter.widget-view+json": {
       "model_id": "0d8979aa6ed0405f935663f7a79d895b",
       "version_major": 2,
       "version_minor": 0
      },
      "text/plain": [
       "HBox(children=(IntProgress(value=0, max=2151), HTML(value='')))"
      ]
     },
     "metadata": {},
     "output_type": "display_data"
    },
    {
     "data": {
      "application/vnd.jupyter.widget-view+json": {
       "model_id": "8d9abda29c694abbb745affb3a3b5d27",
       "version_major": 2,
       "version_minor": 0
      },
      "text/plain": [
       "HBox(children=(IntProgress(value=0, max=2151), HTML(value='')))"
      ]
     },
     "metadata": {},
     "output_type": "display_data"
    },
    {
     "data": {
      "application/vnd.jupyter.widget-view+json": {
       "model_id": "7f5978259ced40e1bf318bbc2c9d89a2",
       "version_major": 2,
       "version_minor": 0
      },
      "text/plain": [
       "HBox(children=(IntProgress(value=0, max=2151), HTML(value='')))"
      ]
     },
     "metadata": {},
     "output_type": "display_data"
    },
    {
     "data": {
      "application/vnd.jupyter.widget-view+json": {
       "model_id": "618888021b4d48e4ae52eb1deb2108a9",
       "version_major": 2,
       "version_minor": 0
      },
      "text/plain": [
       "HBox(children=(IntProgress(value=0, max=2151), HTML(value='')))"
      ]
     },
     "metadata": {},
     "output_type": "display_data"
    },
    {
     "data": {
      "application/vnd.jupyter.widget-view+json": {
       "model_id": "3bb4bbcaacad4bb7985958346069f9cd",
       "version_major": 2,
       "version_minor": 0
      },
      "text/plain": [
       "HBox(children=(IntProgress(value=0, max=2151), HTML(value='')))"
      ]
     },
     "metadata": {},
     "output_type": "display_data"
    },
    {
     "data": {
      "application/vnd.jupyter.widget-view+json": {
       "model_id": "59ef0e04421047b4af7850596f222015",
       "version_major": 2,
       "version_minor": 0
      },
      "text/plain": [
       "HBox(children=(IntProgress(value=0, max=2151), HTML(value='')))"
      ]
     },
     "metadata": {},
     "output_type": "display_data"
    },
    {
     "data": {
      "application/vnd.jupyter.widget-view+json": {
       "model_id": "8cd1bc7484cd4ab0b5a4831815cedd24",
       "version_major": 2,
       "version_minor": 0
      },
      "text/plain": [
       "HBox(children=(IntProgress(value=0, max=2151), HTML(value='')))"
      ]
     },
     "metadata": {},
     "output_type": "display_data"
    },
    {
     "data": {
      "application/vnd.jupyter.widget-view+json": {
       "model_id": "c271f16ad3754d4d8ff97b4d8ba47ed3",
       "version_major": 2,
       "version_minor": 0
      },
      "text/plain": [
       "HBox(children=(IntProgress(value=0, max=2151), HTML(value='')))"
      ]
     },
     "metadata": {},
     "output_type": "display_data"
    },
    {
     "data": {
      "application/vnd.jupyter.widget-view+json": {
       "model_id": "920b80411945456f8a1c9ae4c82fb5fb",
       "version_major": 2,
       "version_minor": 0
      },
      "text/plain": [
       "HBox(children=(IntProgress(value=0, max=2151), HTML(value='')))"
      ]
     },
     "metadata": {},
     "output_type": "display_data"
    },
    {
     "data": {
      "application/vnd.jupyter.widget-view+json": {
       "model_id": "95f0cf4117494337a6e9e78d85f155e1",
       "version_major": 2,
       "version_minor": 0
      },
      "text/plain": [
       "HBox(children=(IntProgress(value=0, max=2151), HTML(value='')))"
      ]
     },
     "metadata": {},
     "output_type": "display_data"
    },
    {
     "data": {
      "application/vnd.jupyter.widget-view+json": {
       "model_id": "056a773b0e0549ae985150ef2078fc01",
       "version_major": 2,
       "version_minor": 0
      },
      "text/plain": [
       "HBox(children=(IntProgress(value=0, max=2151), HTML(value='')))"
      ]
     },
     "metadata": {},
     "output_type": "display_data"
    },
    {
     "data": {
      "application/vnd.jupyter.widget-view+json": {
       "model_id": "817bbc51ee4d46a38e1c3b1ec9b68db2",
       "version_major": 2,
       "version_minor": 0
      },
      "text/plain": [
       "HBox(children=(IntProgress(value=0, max=2151), HTML(value='')))"
      ]
     },
     "metadata": {},
     "output_type": "display_data"
    },
    {
     "data": {
      "application/vnd.jupyter.widget-view+json": {
       "model_id": "8e876c9b82f2473fbe2e27db0a667bf6",
       "version_major": 2,
       "version_minor": 0
      },
      "text/plain": [
       "HBox(children=(IntProgress(value=0, max=2151), HTML(value='')))"
      ]
     },
     "metadata": {},
     "output_type": "display_data"
    },
    {
     "data": {
      "application/vnd.jupyter.widget-view+json": {
       "model_id": "f949de85deb344a8b7b884320cd91557",
       "version_major": 2,
       "version_minor": 0
      },
      "text/plain": [
       "HBox(children=(IntProgress(value=0, max=2151), HTML(value='')))"
      ]
     },
     "metadata": {},
     "output_type": "display_data"
    },
    {
     "data": {
      "application/vnd.jupyter.widget-view+json": {
       "model_id": "56363095de88414a85d6e9f102e0836f",
       "version_major": 2,
       "version_minor": 0
      },
      "text/plain": [
       "HBox(children=(IntProgress(value=0, max=2151), HTML(value='')))"
      ]
     },
     "metadata": {},
     "output_type": "display_data"
    },
    {
     "data": {
      "application/vnd.jupyter.widget-view+json": {
       "model_id": "9704accbf87244f3baf72d4db77f3e84",
       "version_major": 2,
       "version_minor": 0
      },
      "text/plain": [
       "HBox(children=(IntProgress(value=0, max=2151), HTML(value='')))"
      ]
     },
     "metadata": {},
     "output_type": "display_data"
    },
    {
     "data": {
      "application/vnd.jupyter.widget-view+json": {
       "model_id": "edba92b055614564bcd20eaa576fa684",
       "version_major": 2,
       "version_minor": 0
      },
      "text/plain": [
       "HBox(children=(IntProgress(value=0, max=2151), HTML(value='')))"
      ]
     },
     "metadata": {},
     "output_type": "display_data"
    },
    {
     "data": {
      "application/vnd.jupyter.widget-view+json": {
       "model_id": "3a35cff36a3b4b34b2ee090c2db751dc",
       "version_major": 2,
       "version_minor": 0
      },
      "text/plain": [
       "HBox(children=(IntProgress(value=0, max=2151), HTML(value='')))"
      ]
     },
     "metadata": {},
     "output_type": "display_data"
    },
    {
     "data": {
      "application/vnd.jupyter.widget-view+json": {
       "model_id": "69cafeb0ab824dee8c7d324c7d095ae9",
       "version_major": 2,
       "version_minor": 0
      },
      "text/plain": [
       "HBox(children=(IntProgress(value=0, max=2151), HTML(value='')))"
      ]
     },
     "metadata": {},
     "output_type": "display_data"
    },
    {
     "data": {
      "application/vnd.jupyter.widget-view+json": {
       "model_id": "f798f727175a4ae48c9f04c99e7d9d45",
       "version_major": 2,
       "version_minor": 0
      },
      "text/plain": [
       "HBox(children=(IntProgress(value=0, max=2151), HTML(value='')))"
      ]
     },
     "metadata": {},
     "output_type": "display_data"
    },
    {
     "data": {
      "application/vnd.jupyter.widget-view+json": {
       "model_id": "097d83a56a454746843852531b7773ac",
       "version_major": 2,
       "version_minor": 0
      },
      "text/plain": [
       "HBox(children=(IntProgress(value=0, max=2151), HTML(value='')))"
      ]
     },
     "metadata": {},
     "output_type": "display_data"
    },
    {
     "data": {
      "application/vnd.jupyter.widget-view+json": {
       "model_id": "a0e69622ad4d4f96956dc4afb9a397ec",
       "version_major": 2,
       "version_minor": 0
      },
      "text/plain": [
       "HBox(children=(IntProgress(value=0, max=2151), HTML(value='')))"
      ]
     },
     "metadata": {},
     "output_type": "display_data"
    },
    {
     "data": {
      "application/vnd.jupyter.widget-view+json": {
       "model_id": "f88e7fbff10e4bb1a3aaa12b08506857",
       "version_major": 2,
       "version_minor": 0
      },
      "text/plain": [
       "HBox(children=(IntProgress(value=0, max=2151), HTML(value='')))"
      ]
     },
     "metadata": {},
     "output_type": "display_data"
    },
    {
     "data": {
      "application/vnd.jupyter.widget-view+json": {
       "model_id": "7cac62ff47fc471e98931f5481722ce4",
       "version_major": 2,
       "version_minor": 0
      },
      "text/plain": [
       "HBox(children=(IntProgress(value=0, max=2151), HTML(value='')))"
      ]
     },
     "metadata": {},
     "output_type": "display_data"
    },
    {
     "data": {
      "application/vnd.jupyter.widget-view+json": {
       "model_id": "9acec3f3a4624ba2bc3fc10b2629a163",
       "version_major": 2,
       "version_minor": 0
      },
      "text/plain": [
       "HBox(children=(IntProgress(value=0, max=2151), HTML(value='')))"
      ]
     },
     "metadata": {},
     "output_type": "display_data"
    },
    {
     "data": {
      "application/vnd.jupyter.widget-view+json": {
       "model_id": "68fdc2d90e66415b9b255385a5392774",
       "version_major": 2,
       "version_minor": 0
      },
      "text/plain": [
       "HBox(children=(IntProgress(value=0, max=2151), HTML(value='')))"
      ]
     },
     "metadata": {},
     "output_type": "display_data"
    },
    {
     "data": {
      "application/vnd.jupyter.widget-view+json": {
       "model_id": "0fedf207aae040ba93165888558e7bbc",
       "version_major": 2,
       "version_minor": 0
      },
      "text/plain": [
       "HBox(children=(IntProgress(value=0, max=2151), HTML(value='')))"
      ]
     },
     "metadata": {},
     "output_type": "display_data"
    },
    {
     "data": {
      "application/vnd.jupyter.widget-view+json": {
       "model_id": "d238e0f6173b4ec09d4ab44f0cb21ae8",
       "version_major": 2,
       "version_minor": 0
      },
      "text/plain": [
       "HBox(children=(IntProgress(value=0, max=2151), HTML(value='')))"
      ]
     },
     "metadata": {},
     "output_type": "display_data"
    },
    {
     "data": {
      "application/vnd.jupyter.widget-view+json": {
       "model_id": "322e623894bd4fc2a9b735677271508a",
       "version_major": 2,
       "version_minor": 0
      },
      "text/plain": [
       "HBox(children=(IntProgress(value=0, max=2151), HTML(value='')))"
      ]
     },
     "metadata": {},
     "output_type": "display_data"
    },
    {
     "name": "stdout",
     "output_type": "stream",
     "text": [
      "\n"
     ]
    }
   ],
   "source": [
    "loss_list, auc_list, x_vals = train(net, 0.1, 30, ctx)"
   ]
  },
  {
   "cell_type": "code",
   "execution_count": 16,
   "metadata": {
    "ExecuteTime": {
     "end_time": "2019-04-16T00:48:49.692639Z",
     "start_time": "2019-04-16T00:48:49.684595Z"
    }
   },
   "outputs": [],
   "source": [
    "file_name = 'train_result_'+ model_name+'.pkl'\n",
    "with open(file_name, 'wb') as f:\n",
    "    pickle.dump(loss_list, f, pickle.HIGHEST_PROTOCOL)\n",
    "    pickle.dump(auc_list, f, pickle.HIGHEST_PROTOCOL)"
   ]
  },
  {
   "cell_type": "code",
   "execution_count": 18,
   "metadata": {
    "ExecuteTime": {
     "end_time": "2019-04-16T00:50:27.606736Z",
     "start_time": "2019-04-16T00:50:27.600321Z"
    }
   },
   "outputs": [
    {
     "data": {
      "text/plain": [
       "21"
      ]
     },
     "execution_count": 18,
     "metadata": {},
     "output_type": "execute_result"
    }
   ],
   "source": [
    "len(x_vals)"
   ]
  },
  {
   "cell_type": "code",
   "execution_count": null,
   "metadata": {},
   "outputs": [],
   "source": []
  }
 ],
 "metadata": {
  "kernelspec": {
   "display_name": "Python 3",
   "language": "python",
   "name": "python3"
  },
  "language_info": {
   "codemirror_mode": {
    "name": "ipython",
    "version": 3
   },
   "file_extension": ".py",
   "mimetype": "text/x-python",
   "name": "python",
   "nbconvert_exporter": "python",
   "pygments_lexer": "ipython3",
   "version": "3.6.0"
  },
  "toc": {
   "base_numbering": 1,
   "nav_menu": {},
   "number_sections": true,
   "sideBar": true,
   "skip_h1_title": false,
   "title_cell": "Table of Contents",
   "title_sidebar": "Contents",
   "toc_cell": false,
   "toc_position": {
    "height": "calc(100% - 180px)",
    "left": "10px",
    "top": "150px",
    "width": "165px"
   },
   "toc_section_display": true,
   "toc_window_display": true
  }
 },
 "nbformat": 4,
 "nbformat_minor": 2
}
