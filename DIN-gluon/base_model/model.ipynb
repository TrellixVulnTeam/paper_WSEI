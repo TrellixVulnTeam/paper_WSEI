{
 "cells": [
  {
   "cell_type": "markdown",
   "metadata": {},
   "source": [
    "# base model of CTR\n",
    "Embedding + MLP\n",
    "目的：用户的前n个广告点击记录，预测点击第n+1个广告的概率"
   ]
  },
  {
   "cell_type": "code",
   "execution_count": 1,
   "metadata": {
    "ExecuteTime": {
     "end_time": "2019-04-15T14:01:50.066692Z",
     "start_time": "2019-04-15T14:01:43.665117Z"
    }
   },
   "outputs": [],
   "source": [
    "from sklearn import metrics\n",
    "import mxnet as mx\n",
    "from mxnet import autograd, gluon, init, nd\n",
    "from mxnet.gluon import data as gdata, loss as gloss, nn\n",
    "import pickle\n",
    "import random\n",
    "import time\n",
    "import sys\n",
    "sys.path.append('/data/CaoZhong/utils/')\n",
    "from my_utils import *\n",
    "from tqdm import tqdm_notebook"
   ]
  },
  {
   "cell_type": "markdown",
   "metadata": {},
   "source": [
    "## 加载数据"
   ]
  },
  {
   "cell_type": "code",
   "execution_count": 2,
   "metadata": {
    "ExecuteTime": {
     "end_time": "2019-04-15T14:02:43.486003Z",
     "start_time": "2019-04-15T14:02:41.181150Z"
    },
    "code_folding": [],
    "scrolled": true
   },
   "outputs": [
    {
     "name": "stdout",
     "output_type": "stream",
     "text": [
      "user count: 1053\titem count: 63001\tcate count: 801\n",
      "train set len:  68814\n",
      "test set len:  2106\n"
     ]
    }
   ],
   "source": [
    "ctx = mx.gpu(1)\n",
    "train_batch_size = 32\n",
    "test_batch_size = 512\n",
    "model_name = 'din_basemodel_gluon'\n",
    "with open('../data/dataset_sub_gluon.pkl', 'rb') as f:\n",
    "    train_set = pickle.load(f)\n",
    "    test_set = pickle.load(f)\n",
    "    cate_list = pickle.load(f)\n",
    "    user_count, item_count, cate_count = pickle.load(f)\n",
    "random.shuffle(train_set)\n",
    "cate_list = nd.array(cate_list, ctx=ctx)\n",
    "print(\"user count: %d\\titem count: %d\\tcate count: %d\" % (user_count, item_count, cate_count))\n",
    "print(\"train set len: \",len(train_set))\n",
    "print('test set len: ', len(test_set))"
   ]
  },
  {
   "cell_type": "markdown",
   "metadata": {},
   "source": [
    "## 建立模型"
   ]
  },
  {
   "cell_type": "code",
   "execution_count": 3,
   "metadata": {
    "ExecuteTime": {
     "end_time": "2019-04-15T14:02:43.518393Z",
     "start_time": "2019-04-15T14:02:43.489349Z"
    },
    "code_folding": []
   },
   "outputs": [],
   "source": [
    "class HybridNet(nn.HybridBlock):\n",
    "    def __init__(self, item_count, cate_count, embed_size, num_hiddens,  ctx, **kwargs):\n",
    "        super(HybridNet, self).__init__(**kwargs)\n",
    "        self.num_hiddens = num_hiddens\n",
    "        self.item_embedding = nn.Embedding(item_count, embed_size)\n",
    "        self.cate_embedding = nn.Embedding(cate_count, embed_size)\n",
    "        self.batch_normal_layer = nn.BatchNorm()\n",
    "        self.dense_layer = nn.Dense(num_hiddens)\n",
    "        \n",
    "        self.mlp = nn.HybridSequential()\n",
    "        self.mlp.add(nn.BatchNorm())\n",
    "        self.mlp.add(nn.Dense(80, activation='sigmoid'))\n",
    "        self.mlp.add(nn.Dense(40, activation='sigmoid'))\n",
    "        self.mlp.add(nn.Dense(1, activation=None))\n",
    "    \n",
    "    def hybrid_forward(self,F, item, cate, hist, hist_cate, ls):\n",
    "        \n",
    "        item = item.reshape((-1))                         # [B]\n",
    "        item_emb_w = self.item_embedding(item)            # [B, H/2]\n",
    "        \n",
    "        cate_emb_w = self.cate_embedding(cate)\n",
    "        i_emb = F.concat(item_emb_w, cate_emb_w,dim=1)   # [B, H]\n",
    "        \n",
    "        hi_emb = self.item_embedding(hist)                 # [B, T, H/2]\n",
    "        hc_emb = self.cate_embedding(hist_cate)                 # [B, T, H/2]\n",
    "        h_emb = F.concat(hi_emb, hc_emb, dim=-1)          # [B, T, H]\n",
    "        \n",
    "        h_emb = F.SequenceMask(h_emb.swapaxes(0, 1), sequence_length=ls.reshape((-1)), use_sequence_length=True) # [T, B, H]\n",
    "        h_emb = F.mean(h_emb, axis=0)\n",
    "        h_emb = h_emb.reshape((-1, self.num_hiddens))\n",
    "        h_emb = self.batch_normal_layer(h_emb)\n",
    "        h_emb = self.dense_layer(h_emb)\n",
    "        user_emb = h_emb\n",
    "        \n",
    "        din = F.concat(user_emb, i_emb, dim=-1)\n",
    "        score = self.mlp(din)\n",
    "        return score"
   ]
  },
  {
   "cell_type": "markdown",
   "metadata": {},
   "source": [
    "## 混合式编程"
   ]
  },
  {
   "cell_type": "code",
   "execution_count": 4,
   "metadata": {
    "ExecuteTime": {
     "end_time": "2019-04-15T14:02:44.499571Z",
     "start_time": "2019-04-15T14:02:44.495721Z"
    }
   },
   "outputs": [],
   "source": [
    "# cate_list_i = nd.array([0, 1, 2, 3, 4, 5, 6, 7, 8,9] *10 , ctx =ctx)\n",
    "\n",
    "# item_i = nd.array([1,2],ctx=ctx)\n",
    "# hist_i = nd.array([[2,3,0,0],[1,4,7,0]],ctx=ctx)\n",
    "# sl_i = nd.array([2,3],ctx=ctx)\n",
    "# label_i =  nd.array([0,1],ctx=ctx).reshape((2, -1))\n",
    "\n",
    "# cate = cate_list_i[item_i].reshape((-1))\n",
    "# net_i = HybridNet(100, 10, 4, 8, ctx)\n",
    "# net_i.initialize(init=init.Xavier(),force_reinit=True, ctx=ctx)\n",
    "\n",
    "# pred_i = net_i(item_i,cate, hist_i, sl_i)\n",
    "# print(pred_i)"
   ]
  },
  {
   "cell_type": "code",
   "execution_count": 5,
   "metadata": {
    "ExecuteTime": {
     "end_time": "2019-04-15T14:02:44.687226Z",
     "start_time": "2019-04-15T14:02:44.683754Z"
    }
   },
   "outputs": [],
   "source": [
    "# net_i.hybridize()\n",
    "# pred_i = net_i(item_i,cate, hist_i, sl_i)\n",
    "# print(pred_i)"
   ]
  },
  {
   "cell_type": "code",
   "execution_count": 6,
   "metadata": {
    "ExecuteTime": {
     "end_time": "2019-04-15T14:02:44.872765Z",
     "start_time": "2019-04-15T14:02:44.869912Z"
    }
   },
   "outputs": [],
   "source": [
    "# pred_i = net_i(item_i,cate, hist_i, sl_i)\n",
    "# print(pred_i)"
   ]
  },
  {
   "cell_type": "markdown",
   "metadata": {},
   "source": [
    "## 建立数据迭代器"
   ]
  },
  {
   "cell_type": "code",
   "execution_count": 7,
   "metadata": {
    "ExecuteTime": {
     "end_time": "2019-04-15T14:02:45.451592Z",
     "start_time": "2019-04-15T14:02:45.445658Z"
    },
    "code_folding": []
   },
   "outputs": [],
   "source": [
    "def get_data(data_set):    \n",
    "    all_user, all_hist, all_pre,  all_label = [],[],[],[]\n",
    "    for u, hist, pre, label in data_set:\n",
    "        all_user.append(u)\n",
    "        all_hist.append(hist)\n",
    "        all_pre.append(pre)\n",
    "        all_label.append(label)\n",
    "    return all_user, all_hist, all_pre, all_label"
   ]
  },
  {
   "cell_type": "code",
   "execution_count": 8,
   "metadata": {
    "ExecuteTime": {
     "end_time": "2019-04-15T14:02:45.826539Z",
     "start_time": "2019-04-15T14:02:45.817548Z"
    },
    "code_folding": []
   },
   "outputs": [],
   "source": [
    "def batchify(data):\n",
    "    max_len = max([len(h) for u, h ,p, l in data])\n",
    "    uid, hist, pre, label, sl= [], [], [], [], []\n",
    "    for u, h, p, l in data:\n",
    "        uid += [u]\n",
    "        sl += [len(h)]\n",
    "        pre += [p]\n",
    "        hist += [h + [0] * (max_len-len(h))]\n",
    "        label += [l]\n",
    "    return (nd.array(uid).reshape((-1,1)), nd.array(hist), nd.array(pre).reshape((-1, 1)),\n",
    "           nd.array(label).reshape((-1,1)),nd.array(sl).reshape((-1, 1)))"
   ]
  },
  {
   "cell_type": "code",
   "execution_count": 9,
   "metadata": {
    "ExecuteTime": {
     "end_time": "2019-04-15T14:02:46.212493Z",
     "start_time": "2019-04-15T14:02:46.143164Z"
    },
    "code_folding": []
   },
   "outputs": [],
   "source": [
    "# 训练集\n",
    "all_user, all_hist, all_pre, all_label = get_data(train_set)\n",
    "dataset = gdata.ArrayDataset(all_user, all_hist, all_pre, all_label)\n",
    "# 测试集\n",
    "all_user, all_hist, all_pre, all_label = get_data(test_set)\n",
    "dataset_test = gdata.ArrayDataset(all_user, all_hist, all_pre, all_label)\n",
    "\n",
    "# 建立数据迭代器\n",
    "data_iter = gdata.DataLoader(dataset, train_batch_size, shuffle=True, batchify_fn=batchify)\n",
    "data_iter_test = gdata.DataLoader(dataset_test, test_batch_size, shuffle=True, batchify_fn=batchify)"
   ]
  },
  {
   "cell_type": "code",
   "execution_count": 10,
   "metadata": {
    "ExecuteTime": {
     "end_time": "2019-04-15T14:02:46.658102Z",
     "start_time": "2019-04-15T14:02:46.498529Z"
    },
    "code_folding": []
   },
   "outputs": [
    {
     "name": "stdout",
     "output_type": "stream",
     "text": [
      "uid shape:  (32, 1) cpu(0)\n",
      "hist shape:  (32, 311) cpu(0)\n",
      "pre shape:  (32, 1) cpu(0)\n",
      "label shape:  (32, 1) cpu(0)\n",
      "sl shape:  (32, 1) cpu(0)\n",
      "uid shape:  (512, 1)\n",
      "hist shape:  (512, 430)\n",
      "pre shape:  (512, 1)\n",
      "label shape:  (512, 1)\n",
      "sl shape:  (512, 1)\n"
     ]
    }
   ],
   "source": [
    "for batch in data_iter:\n",
    "    for name, data in zip(['uid','hist','pre','label','sl'], batch):\n",
    "        print(name, 'shape: ', data.shape, data.context)        \n",
    "    break\n",
    "for batch in data_iter_test:\n",
    "    for name, data in zip(['uid','hist','pre','label','sl'], batch):\n",
    "        print(name, 'shape: ', data.shape)        \n",
    "    break"
   ]
  },
  {
   "cell_type": "markdown",
   "metadata": {},
   "source": [
    "# 模型训练"
   ]
  },
  {
   "cell_type": "code",
   "execution_count": 11,
   "metadata": {
    "ExecuteTime": {
     "end_time": "2019-04-15T14:02:47.393473Z",
     "start_time": "2019-04-15T14:02:47.375532Z"
    },
    "code_folding": []
   },
   "outputs": [],
   "source": [
    "def eval_auc(net, ctx):\n",
    "    score = None\n",
    "    y = None\n",
    "    for batch in data_iter_test:\n",
    "\n",
    "        uid, hist, pos, label, sl = [data.as_in_context(ctx) for data in batch]\n",
    "        cate = cate_list[pos].reshape((-1))\n",
    "        hist_cate = cate_list[hist]\n",
    "        if score is None:\n",
    "            score = nd.sigmoid(net(pos,cate, hist, hist_cate, sl))\n",
    "            y = label\n",
    "        else:\n",
    "            score = nd.concat(score, nd.sigmoid(net(pos, cate, hist, hist_cate, sl)), dim=0)\n",
    "            y = nd.concat(y, label, dim=0)\n",
    "    fpr,tpr,thresholds = metrics.roc_curve(list(y.asnumpy()),list(score.asnumpy()))\n",
    "    auc = metrics.auc(fpr,tpr)\n",
    "    return auc"
   ]
  },
  {
   "cell_type": "code",
   "execution_count": 19,
   "metadata": {
    "ExecuteTime": {
     "end_time": "2019-04-16T00:51:21.823913Z",
     "start_time": "2019-04-16T00:51:21.805220Z"
    },
    "code_folding": []
   },
   "outputs": [],
   "source": [
    "def train(net, lr, num_epochs, ctx):\n",
    "    auc_list, loss_list, x_vals= [], [], []\n",
    "    trainer = gluon.Trainer(net.collect_params(), 'sgd', {'learning_rate':lr})\n",
    "    \n",
    "    global_step = 1\n",
    "    stime = time.time()\n",
    "    stime2 = time.time()\n",
    "    \n",
    "    loss_val, auc_val, time_val = 0.0, 0.0, 0.0\n",
    "    print('auc: %.4f' % (eval_auc(net, ctx)))\n",
    "    epoch_bar = tqdm_notebook(range(1, num_epochs+1))\n",
    "    for epoch in epoch_bar:\n",
    "        l_sum = 0.0\n",
    "        bar = tqdm_notebook(data_iter)\n",
    "        for batch in bar:\n",
    "            \n",
    "            uid, hist, pre, label, sl = [data.as_in_context(ctx) for data in batch]\n",
    "            cate = cate_list[pre].reshape((-1))\n",
    "            hist_cate = cate_list[hist]\n",
    "            with autograd.record():\n",
    "                pred = net(pre,cate,hist,hist_cate, sl)\n",
    "                l = loss(pred, label)\n",
    "            l.backward()\n",
    "            trainer.step(train_batch_size)\n",
    "            \n",
    "            l_sum += l.mean().asscalar()\n",
    "            \n",
    "            if global_step % 1000 ==0:\n",
    "                \n",
    "                test_auc = eval_auc(net, ctx)\n",
    "                loss_val = l_sum / 1000\n",
    "                auc_val = test_auc\n",
    "                time_val = time.time()-stime2\n",
    "                tip = \"epoch %d, global step:%d, loss %.4f, test auc:%.4f, time:%.2f\" % (epoch,global_step,  loss_val, auc_val, time_val )\n",
    "                bar.set_description_str(tip)\n",
    "                tip_info(tip,out=False)\n",
    "                loss_list.append(l_sum/1000)\n",
    "                auc_list.append(test_auc)\n",
    "                x_vals.append(global_step//1000)\n",
    "                l_sum = 0.0\n",
    "                stime2 = time.time()\n",
    "            global_step += 1\n",
    "        tip = 'epoch %d done, cost time:%.2f' % (epoch, time.time() - stime)\n",
    "        epoch_bar.set_description_str(tip)\n",
    "        tip_info(tip,out=False)\n",
    "\n",
    "    return loss_list, auc_list, x_vals\n",
    "            "
   ]
  },
  {
   "cell_type": "code",
   "execution_count": 20,
   "metadata": {
    "ExecuteTime": {
     "end_time": "2019-04-16T00:51:22.179123Z",
     "start_time": "2019-04-16T00:51:22.165077Z"
    }
   },
   "outputs": [],
   "source": [
    "loss = gloss.SigmoidBinaryCrossEntropyLoss()\n",
    "net = HybridNet(item_count, cate_count, 64, 128, ctx)\n",
    "net.initialize(init=init.Xavier(),force_reinit=True, ctx=ctx)\n",
    "net.hybridize()"
   ]
  },
  {
   "cell_type": "code",
   "execution_count": null,
   "metadata": {
    "ExecuteTime": {
     "start_time": "2019-04-16T00:51:27.794Z"
    }
   },
   "outputs": [
    {
     "name": "stdout",
     "output_type": "stream",
     "text": [
      "auc: 0.5042\n"
     ]
    },
    {
     "data": {
      "application/vnd.jupyter.widget-view+json": {
       "model_id": "d20029df09b140c78b960380f2346793",
       "version_major": 2,
       "version_minor": 0
      },
      "text/plain": [
       "HBox(children=(IntProgress(value=0, max=30), HTML(value='')))"
      ]
     },
     "metadata": {},
     "output_type": "display_data"
    },
    {
     "data": {
      "application/vnd.jupyter.widget-view+json": {
       "model_id": "c50f84f5f5ae479e8e342841601878bf",
       "version_major": 2,
       "version_minor": 0
      },
      "text/plain": [
       "HBox(children=(IntProgress(value=0, max=2151), HTML(value='')))"
      ]
     },
     "metadata": {},
     "output_type": "display_data"
    },
    {
     "data": {
      "application/vnd.jupyter.widget-view+json": {
       "model_id": "ee1009be216945f29468d42b35699967",
       "version_major": 2,
       "version_minor": 0
      },
      "text/plain": [
       "HBox(children=(IntProgress(value=0, max=2151), HTML(value='')))"
      ]
     },
     "metadata": {},
     "output_type": "display_data"
    },
    {
     "data": {
      "application/vnd.jupyter.widget-view+json": {
       "model_id": "b98422b80f33444bbcc56b04d7ccadc8",
       "version_major": 2,
       "version_minor": 0
      },
      "text/plain": [
       "HBox(children=(IntProgress(value=0, max=2151), HTML(value='')))"
      ]
     },
     "metadata": {},
     "output_type": "display_data"
    },
    {
     "data": {
      "application/vnd.jupyter.widget-view+json": {
       "model_id": "97bb9e53911e48f29713dda8019e95ea",
       "version_major": 2,
       "version_minor": 0
      },
      "text/plain": [
       "HBox(children=(IntProgress(value=0, max=2151), HTML(value='')))"
      ]
     },
     "metadata": {},
     "output_type": "display_data"
    },
    {
     "data": {
      "application/vnd.jupyter.widget-view+json": {
       "model_id": "f62c670a85e24fe9956b488f9a3c9cfa",
       "version_major": 2,
       "version_minor": 0
      },
      "text/plain": [
       "HBox(children=(IntProgress(value=0, max=2151), HTML(value='')))"
      ]
     },
     "metadata": {},
     "output_type": "display_data"
    },
    {
     "data": {
      "application/vnd.jupyter.widget-view+json": {
       "model_id": "a4057f5a214c466dbc25892735e94c14",
       "version_major": 2,
       "version_minor": 0
      },
      "text/plain": [
       "HBox(children=(IntProgress(value=0, max=2151), HTML(value='')))"
      ]
     },
     "metadata": {},
     "output_type": "display_data"
    },
    {
     "data": {
      "application/vnd.jupyter.widget-view+json": {
       "model_id": "954f957444b44e36bbd2cc7c5f75cbd9",
       "version_major": 2,
       "version_minor": 0
      },
      "text/plain": [
       "HBox(children=(IntProgress(value=0, max=2151), HTML(value='')))"
      ]
     },
     "metadata": {},
     "output_type": "display_data"
    },
    {
     "data": {
      "application/vnd.jupyter.widget-view+json": {
       "model_id": "ce2ec7ac2e6d437abaf234433e59cee7",
       "version_major": 2,
       "version_minor": 0
      },
      "text/plain": [
       "HBox(children=(IntProgress(value=0, max=2151), HTML(value='')))"
      ]
     },
     "metadata": {},
     "output_type": "display_data"
    },
    {
     "data": {
      "application/vnd.jupyter.widget-view+json": {
       "model_id": "f1823641a90645458cb8c3aa55bfb82a",
       "version_major": 2,
       "version_minor": 0
      },
      "text/plain": [
       "HBox(children=(IntProgress(value=0, max=2151), HTML(value='')))"
      ]
     },
     "metadata": {},
     "output_type": "display_data"
    },
    {
     "data": {
      "application/vnd.jupyter.widget-view+json": {
       "model_id": "b59b48f209ba47de947295d2753fd9d4",
       "version_major": 2,
       "version_minor": 0
      },
      "text/plain": [
       "HBox(children=(IntProgress(value=0, max=2151), HTML(value='')))"
      ]
     },
     "metadata": {},
     "output_type": "display_data"
    },
    {
     "data": {
      "application/vnd.jupyter.widget-view+json": {
       "model_id": "9a7fd3a199f74998837970da05b30005",
       "version_major": 2,
       "version_minor": 0
      },
      "text/plain": [
       "HBox(children=(IntProgress(value=0, max=2151), HTML(value='')))"
      ]
     },
     "metadata": {},
     "output_type": "display_data"
    },
    {
     "data": {
      "application/vnd.jupyter.widget-view+json": {
       "model_id": "2b327294ffa445419ca2f80282e3e29f",
       "version_major": 2,
       "version_minor": 0
      },
      "text/plain": [
       "HBox(children=(IntProgress(value=0, max=2151), HTML(value='')))"
      ]
     },
     "metadata": {},
     "output_type": "display_data"
    },
    {
     "data": {
      "application/vnd.jupyter.widget-view+json": {
       "model_id": "63f3e5a393e84c95aacf79f5954a1293",
       "version_major": 2,
       "version_minor": 0
      },
      "text/plain": [
       "HBox(children=(IntProgress(value=0, max=2151), HTML(value='')))"
      ]
     },
     "metadata": {},
     "output_type": "display_data"
    },
    {
     "data": {
      "application/vnd.jupyter.widget-view+json": {
       "model_id": "cfc79dfff243490584d99cf6b4b40a39",
       "version_major": 2,
       "version_minor": 0
      },
      "text/plain": [
       "HBox(children=(IntProgress(value=0, max=2151), HTML(value='')))"
      ]
     },
     "metadata": {},
     "output_type": "display_data"
    },
    {
     "data": {
      "application/vnd.jupyter.widget-view+json": {
       "model_id": "b1e8bff527d04fd79eb59dc366e9835a",
       "version_major": 2,
       "version_minor": 0
      },
      "text/plain": [
       "HBox(children=(IntProgress(value=0, max=2151), HTML(value='')))"
      ]
     },
     "metadata": {},
     "output_type": "display_data"
    }
   ],
   "source": [
    "loss_list, auc_list, x_vals = train(net, 0.1, 30, ctx)"
   ]
  },
  {
   "cell_type": "code",
   "execution_count": 16,
   "metadata": {
    "ExecuteTime": {
     "end_time": "2019-04-16T00:48:49.692639Z",
     "start_time": "2019-04-16T00:48:49.684595Z"
    }
   },
   "outputs": [],
   "source": [
    "file_name = 'train_result_'+ model_name+'.pkl'\n",
    "with open(file_name, 'wb') as f:\n",
    "    pickle.dump(loss_list, f, pickle.HIGHEST_PROTOCOL)\n",
    "    pickle.dump(auc_list, f, pickle.HIGHEST_PROTOCOL)"
   ]
  },
  {
   "cell_type": "code",
   "execution_count": 18,
   "metadata": {
    "ExecuteTime": {
     "end_time": "2019-04-16T00:50:27.606736Z",
     "start_time": "2019-04-16T00:50:27.600321Z"
    }
   },
   "outputs": [
    {
     "data": {
      "text/plain": [
       "21"
      ]
     },
     "execution_count": 18,
     "metadata": {},
     "output_type": "execute_result"
    }
   ],
   "source": [
    "len(x_vals)"
   ]
  },
  {
   "cell_type": "code",
   "execution_count": null,
   "metadata": {},
   "outputs": [],
   "source": []
  }
 ],
 "metadata": {
  "kernelspec": {
   "display_name": "Python 3",
   "language": "python",
   "name": "python3"
  },
  "language_info": {
   "codemirror_mode": {
    "name": "ipython",
    "version": 3
   },
   "file_extension": ".py",
   "mimetype": "text/x-python",
   "name": "python",
   "nbconvert_exporter": "python",
   "pygments_lexer": "ipython3",
   "version": "3.6.0"
  },
  "toc": {
   "base_numbering": 1,
   "nav_menu": {},
   "number_sections": true,
   "sideBar": true,
   "skip_h1_title": false,
   "title_cell": "Table of Contents",
   "title_sidebar": "Contents",
   "toc_cell": false,
   "toc_position": {
    "height": "calc(100% - 180px)",
    "left": "10px",
    "top": "150px",
    "width": "165px"
   },
   "toc_section_display": true,
   "toc_window_display": true
  }
 },
 "nbformat": 4,
 "nbformat_minor": 2
}
